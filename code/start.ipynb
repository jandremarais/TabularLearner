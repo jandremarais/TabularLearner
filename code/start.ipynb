{
 "cells": [
  {
   "cell_type": "code",
   "execution_count": 1,
   "metadata": {},
   "outputs": [],
   "source": [
    "%reload_ext autoreload\n",
    "%autoreload 2"
   ]
  },
  {
   "cell_type": "code",
   "execution_count": 2,
   "metadata": {},
   "outputs": [],
   "source": [
    "from utils import *"
   ]
  },
  {
   "cell_type": "code",
   "execution_count": 3,
   "metadata": {},
   "outputs": [],
   "source": [
    "ds_name = 'driver'\n",
    "PATH = Path('../data/')/ds_name"
   ]
  },
  {
   "cell_type": "markdown",
   "metadata": {},
   "source": [
    "## Driver preprocess"
   ]
  },
  {
   "cell_type": "code",
   "execution_count": 4,
   "metadata": {},
   "outputs": [
    {
     "ename": "FileNotFoundError",
     "evalue": "File b'../data/driver/raw/train.csv' does not exist",
     "output_type": "error",
     "traceback": [
      "\u001b[0;31m---------------------------------------------------------------------------\u001b[0m",
      "\u001b[0;31mFileNotFoundError\u001b[0m                         Traceback (most recent call last)",
      "\u001b[0;32m<ipython-input-4-6fefe0232839>\u001b[0m in \u001b[0;36m<module>\u001b[0;34m()\u001b[0m\n\u001b[0;32m----> 1\u001b[0;31m \u001b[0mtrain_df\u001b[0m \u001b[0;34m=\u001b[0m \u001b[0mpd\u001b[0m\u001b[0;34m.\u001b[0m\u001b[0mread_csv\u001b[0m\u001b[0;34m(\u001b[0m\u001b[0mPATH\u001b[0m\u001b[0;34m/\u001b[0m\u001b[0;34m'raw/train.csv'\u001b[0m\u001b[0;34m,\u001b[0m \u001b[0mindex_col\u001b[0m\u001b[0;34m=\u001b[0m\u001b[0;36m0\u001b[0m\u001b[0;34m)\u001b[0m\u001b[0;34m\u001b[0m\u001b[0m\n\u001b[0m\u001b[1;32m      2\u001b[0m \u001b[0;31m# test_df = pd.read_csv(PATH/'raw/test.csv')\u001b[0m\u001b[0;34m\u001b[0m\u001b[0;34m\u001b[0m\u001b[0m\n\u001b[1;32m      3\u001b[0m \u001b[0;34m\u001b[0m\u001b[0m\n\u001b[1;32m      4\u001b[0m \u001b[0mtrain_df\u001b[0m \u001b[0;34m=\u001b[0m \u001b[0mtrain_df\u001b[0m\u001b[0;34m.\u001b[0m\u001b[0mloc\u001b[0m\u001b[0;34m[\u001b[0m\u001b[0;34m:\u001b[0m\u001b[0;34m,\u001b[0m\u001b[0;34m~\u001b[0m\u001b[0mtrain_df\u001b[0m\u001b[0;34m.\u001b[0m\u001b[0mcolumns\u001b[0m\u001b[0;34m.\u001b[0m\u001b[0mstr\u001b[0m\u001b[0;34m.\u001b[0m\u001b[0mcontains\u001b[0m\u001b[0;34m(\u001b[0m\u001b[0;34m'calc'\u001b[0m\u001b[0;34m)\u001b[0m\u001b[0;34m]\u001b[0m\u001b[0;34m\u001b[0m\u001b[0m\n\u001b[1;32m      5\u001b[0m \u001b[0;31m# test_df = test_df.loc[:,~test_df.columns.str.contains('calc')]\u001b[0m\u001b[0;34m\u001b[0m\u001b[0;34m\u001b[0m\u001b[0m\n",
      "\u001b[0;32m~/anaconda3/envs/fastaiv1/lib/python3.6/site-packages/pandas/io/parsers.py\u001b[0m in \u001b[0;36mparser_f\u001b[0;34m(filepath_or_buffer, sep, delimiter, header, names, index_col, usecols, squeeze, prefix, mangle_dupe_cols, dtype, engine, converters, true_values, false_values, skipinitialspace, skiprows, nrows, na_values, keep_default_na, na_filter, verbose, skip_blank_lines, parse_dates, infer_datetime_format, keep_date_col, date_parser, dayfirst, iterator, chunksize, compression, thousands, decimal, lineterminator, quotechar, quoting, escapechar, comment, encoding, dialect, tupleize_cols, error_bad_lines, warn_bad_lines, skipfooter, doublequote, delim_whitespace, low_memory, memory_map, float_precision)\u001b[0m\n\u001b[1;32m    676\u001b[0m                     skip_blank_lines=skip_blank_lines)\n\u001b[1;32m    677\u001b[0m \u001b[0;34m\u001b[0m\u001b[0m\n\u001b[0;32m--> 678\u001b[0;31m         \u001b[0;32mreturn\u001b[0m \u001b[0m_read\u001b[0m\u001b[0;34m(\u001b[0m\u001b[0mfilepath_or_buffer\u001b[0m\u001b[0;34m,\u001b[0m \u001b[0mkwds\u001b[0m\u001b[0;34m)\u001b[0m\u001b[0;34m\u001b[0m\u001b[0m\n\u001b[0m\u001b[1;32m    679\u001b[0m \u001b[0;34m\u001b[0m\u001b[0m\n\u001b[1;32m    680\u001b[0m     \u001b[0mparser_f\u001b[0m\u001b[0;34m.\u001b[0m\u001b[0m__name__\u001b[0m \u001b[0;34m=\u001b[0m \u001b[0mname\u001b[0m\u001b[0;34m\u001b[0m\u001b[0m\n",
      "\u001b[0;32m~/anaconda3/envs/fastaiv1/lib/python3.6/site-packages/pandas/io/parsers.py\u001b[0m in \u001b[0;36m_read\u001b[0;34m(filepath_or_buffer, kwds)\u001b[0m\n\u001b[1;32m    438\u001b[0m \u001b[0;34m\u001b[0m\u001b[0m\n\u001b[1;32m    439\u001b[0m     \u001b[0;31m# Create the parser.\u001b[0m\u001b[0;34m\u001b[0m\u001b[0;34m\u001b[0m\u001b[0m\n\u001b[0;32m--> 440\u001b[0;31m     \u001b[0mparser\u001b[0m \u001b[0;34m=\u001b[0m \u001b[0mTextFileReader\u001b[0m\u001b[0;34m(\u001b[0m\u001b[0mfilepath_or_buffer\u001b[0m\u001b[0;34m,\u001b[0m \u001b[0;34m**\u001b[0m\u001b[0mkwds\u001b[0m\u001b[0;34m)\u001b[0m\u001b[0;34m\u001b[0m\u001b[0m\n\u001b[0m\u001b[1;32m    441\u001b[0m \u001b[0;34m\u001b[0m\u001b[0m\n\u001b[1;32m    442\u001b[0m     \u001b[0;32mif\u001b[0m \u001b[0mchunksize\u001b[0m \u001b[0;32mor\u001b[0m \u001b[0miterator\u001b[0m\u001b[0;34m:\u001b[0m\u001b[0;34m\u001b[0m\u001b[0m\n",
      "\u001b[0;32m~/anaconda3/envs/fastaiv1/lib/python3.6/site-packages/pandas/io/parsers.py\u001b[0m in \u001b[0;36m__init__\u001b[0;34m(self, f, engine, **kwds)\u001b[0m\n\u001b[1;32m    785\u001b[0m             \u001b[0mself\u001b[0m\u001b[0;34m.\u001b[0m\u001b[0moptions\u001b[0m\u001b[0;34m[\u001b[0m\u001b[0;34m'has_index_names'\u001b[0m\u001b[0;34m]\u001b[0m \u001b[0;34m=\u001b[0m \u001b[0mkwds\u001b[0m\u001b[0;34m[\u001b[0m\u001b[0;34m'has_index_names'\u001b[0m\u001b[0;34m]\u001b[0m\u001b[0;34m\u001b[0m\u001b[0m\n\u001b[1;32m    786\u001b[0m \u001b[0;34m\u001b[0m\u001b[0m\n\u001b[0;32m--> 787\u001b[0;31m         \u001b[0mself\u001b[0m\u001b[0;34m.\u001b[0m\u001b[0m_make_engine\u001b[0m\u001b[0;34m(\u001b[0m\u001b[0mself\u001b[0m\u001b[0;34m.\u001b[0m\u001b[0mengine\u001b[0m\u001b[0;34m)\u001b[0m\u001b[0;34m\u001b[0m\u001b[0m\n\u001b[0m\u001b[1;32m    788\u001b[0m \u001b[0;34m\u001b[0m\u001b[0m\n\u001b[1;32m    789\u001b[0m     \u001b[0;32mdef\u001b[0m \u001b[0mclose\u001b[0m\u001b[0;34m(\u001b[0m\u001b[0mself\u001b[0m\u001b[0;34m)\u001b[0m\u001b[0;34m:\u001b[0m\u001b[0;34m\u001b[0m\u001b[0m\n",
      "\u001b[0;32m~/anaconda3/envs/fastaiv1/lib/python3.6/site-packages/pandas/io/parsers.py\u001b[0m in \u001b[0;36m_make_engine\u001b[0;34m(self, engine)\u001b[0m\n\u001b[1;32m   1012\u001b[0m     \u001b[0;32mdef\u001b[0m \u001b[0m_make_engine\u001b[0m\u001b[0;34m(\u001b[0m\u001b[0mself\u001b[0m\u001b[0;34m,\u001b[0m \u001b[0mengine\u001b[0m\u001b[0;34m=\u001b[0m\u001b[0;34m'c'\u001b[0m\u001b[0;34m)\u001b[0m\u001b[0;34m:\u001b[0m\u001b[0;34m\u001b[0m\u001b[0m\n\u001b[1;32m   1013\u001b[0m         \u001b[0;32mif\u001b[0m \u001b[0mengine\u001b[0m \u001b[0;34m==\u001b[0m \u001b[0;34m'c'\u001b[0m\u001b[0;34m:\u001b[0m\u001b[0;34m\u001b[0m\u001b[0m\n\u001b[0;32m-> 1014\u001b[0;31m             \u001b[0mself\u001b[0m\u001b[0;34m.\u001b[0m\u001b[0m_engine\u001b[0m \u001b[0;34m=\u001b[0m \u001b[0mCParserWrapper\u001b[0m\u001b[0;34m(\u001b[0m\u001b[0mself\u001b[0m\u001b[0;34m.\u001b[0m\u001b[0mf\u001b[0m\u001b[0;34m,\u001b[0m \u001b[0;34m**\u001b[0m\u001b[0mself\u001b[0m\u001b[0;34m.\u001b[0m\u001b[0moptions\u001b[0m\u001b[0;34m)\u001b[0m\u001b[0;34m\u001b[0m\u001b[0m\n\u001b[0m\u001b[1;32m   1015\u001b[0m         \u001b[0;32melse\u001b[0m\u001b[0;34m:\u001b[0m\u001b[0;34m\u001b[0m\u001b[0m\n\u001b[1;32m   1016\u001b[0m             \u001b[0;32mif\u001b[0m \u001b[0mengine\u001b[0m \u001b[0;34m==\u001b[0m \u001b[0;34m'python'\u001b[0m\u001b[0;34m:\u001b[0m\u001b[0;34m\u001b[0m\u001b[0m\n",
      "\u001b[0;32m~/anaconda3/envs/fastaiv1/lib/python3.6/site-packages/pandas/io/parsers.py\u001b[0m in \u001b[0;36m__init__\u001b[0;34m(self, src, **kwds)\u001b[0m\n\u001b[1;32m   1706\u001b[0m         \u001b[0mkwds\u001b[0m\u001b[0;34m[\u001b[0m\u001b[0;34m'usecols'\u001b[0m\u001b[0;34m]\u001b[0m \u001b[0;34m=\u001b[0m \u001b[0mself\u001b[0m\u001b[0;34m.\u001b[0m\u001b[0musecols\u001b[0m\u001b[0;34m\u001b[0m\u001b[0m\n\u001b[1;32m   1707\u001b[0m \u001b[0;34m\u001b[0m\u001b[0m\n\u001b[0;32m-> 1708\u001b[0;31m         \u001b[0mself\u001b[0m\u001b[0;34m.\u001b[0m\u001b[0m_reader\u001b[0m \u001b[0;34m=\u001b[0m \u001b[0mparsers\u001b[0m\u001b[0;34m.\u001b[0m\u001b[0mTextReader\u001b[0m\u001b[0;34m(\u001b[0m\u001b[0msrc\u001b[0m\u001b[0;34m,\u001b[0m \u001b[0;34m**\u001b[0m\u001b[0mkwds\u001b[0m\u001b[0;34m)\u001b[0m\u001b[0;34m\u001b[0m\u001b[0m\n\u001b[0m\u001b[1;32m   1709\u001b[0m \u001b[0;34m\u001b[0m\u001b[0m\n\u001b[1;32m   1710\u001b[0m         \u001b[0mpassed_names\u001b[0m \u001b[0;34m=\u001b[0m \u001b[0mself\u001b[0m\u001b[0;34m.\u001b[0m\u001b[0mnames\u001b[0m \u001b[0;32mis\u001b[0m \u001b[0;32mNone\u001b[0m\u001b[0;34m\u001b[0m\u001b[0m\n",
      "\u001b[0;32mpandas/_libs/parsers.pyx\u001b[0m in \u001b[0;36mpandas._libs.parsers.TextReader.__cinit__\u001b[0;34m()\u001b[0m\n",
      "\u001b[0;32mpandas/_libs/parsers.pyx\u001b[0m in \u001b[0;36mpandas._libs.parsers.TextReader._setup_parser_source\u001b[0;34m()\u001b[0m\n",
      "\u001b[0;31mFileNotFoundError\u001b[0m: File b'../data/driver/raw/train.csv' does not exist"
     ]
    }
   ],
   "source": [
    "train_df = pd.read_csv(PATH/'raw/train.csv', index_col=0)\n",
    "# test_df = pd.read_csv(PATH/'raw/test.csv')\n",
    "\n",
    "train_df = train_df.loc[:,~train_df.columns.str.contains('calc')]\n",
    "# test_df = test_df.loc[:,~test_df.columns.str.contains('calc')]\n",
    "\n",
    "train_df.replace(-1, np.nan, inplace=True)\n",
    "# test_df.replace(-1, np.nan, inplace=True)"
   ]
  },
  {
   "cell_type": "code",
   "execution_count": null,
   "metadata": {},
   "outputs": [],
   "source": [
    "cat_names = list(train_df.columns.values[train_df.apply(lambda x: len(np.unique(x)), 0) < 500][1:])\n",
    "# cat_names = list(train_df.columns.values[train_df.columns.str.endswith('_cat')+train_df.columns.str.endswith('_bin')])\n",
    "\n",
    "save_list(cat_names, PATH/'cat_names.txt')\n",
    "\n",
    "np.random.seed(2019)\n",
    "train_df, valid_df = train_test_split(train_df, test_size=0.2)\n",
    "\n",
    "train_df.to_csv(PATH/'train.csv', index=None)\n",
    "valid_df.to_csv(PATH/'valid.csv', index=None)\n",
    "#test_df.to_csv(PATH/'test.csv', index=None)\n",
    "\n",
    "del train_df; del valid_df#; del test_df\n",
    "gc.collect()"
   ]
  },
  {
   "cell_type": "markdown",
   "metadata": {},
   "source": [
    "## Bus preprocess"
   ]
  },
  {
   "cell_type": "code",
   "execution_count": 4,
   "metadata": {},
   "outputs": [],
   "source": [
    "train_df = pd.read_csv(PATH/'raw/train_revised.csv')\n",
    "test_df = pd.read_csv(PATH/'raw/test_questions.csv')"
   ]
  },
  {
   "cell_type": "code",
   "execution_count": 5,
   "metadata": {},
   "outputs": [],
   "source": [
    "train_df = train_df.loc[:,test_df.columns.values]\n",
    "ntickets = train_df['ride_id'].value_counts().to_frame('number_of_ticket')\n",
    "train_df.drop_duplicates('ride_id', inplace=True)\n",
    "train_df.set_index('ride_id', inplace=True)\n",
    "test_df.set_index('ride_id', inplace=True)\n",
    "train_df = train_df.join(ntickets, how='inner')"
   ]
  },
  {
   "cell_type": "code",
   "execution_count": 6,
   "metadata": {},
   "outputs": [],
   "source": [
    "train_df['travel_date_time'] = pd.to_datetime(train_df['travel_date'] + ' ' + train_df['travel_time'], dayfirst=True)\n",
    "test_df['travel_date_time'] = pd.to_datetime(test_df['travel_date'] + ' ' + test_df['travel_time'])"
   ]
  },
  {
   "cell_type": "code",
   "execution_count": 7,
   "metadata": {},
   "outputs": [],
   "source": [
    "train_df.drop(columns = ['travel_to','max_capacity', 'travel_date', 'travel_time'], inplace=True)\n",
    "test_df.drop(columns = ['travel_to', 'max_capacity', 'travel_date', 'travel_time'], inplace=True)"
   ]
  },
  {
   "cell_type": "code",
   "execution_count": 8,
   "metadata": {},
   "outputs": [],
   "source": [
    "val_ind = train_df['travel_date_time'] > '2018-03-31'"
   ]
  },
  {
   "cell_type": "code",
   "execution_count": 9,
   "metadata": {},
   "outputs": [],
   "source": [
    "add_datepart(train_df, 'travel_date_time', time=True)\n",
    "add_datepart(test_df, 'travel_date_time', time=True)"
   ]
  },
  {
   "cell_type": "code",
   "execution_count": 10,
   "metadata": {},
   "outputs": [],
   "source": [
    "valid_df = train_df[val_ind]\n",
    "train_df = train_df[~val_ind]"
   ]
  },
  {
   "cell_type": "code",
   "execution_count": 11,
   "metadata": {},
   "outputs": [
    {
     "data": {
      "text/html": [
       "<div>\n",
       "<style scoped>\n",
       "    .dataframe tbody tr th:only-of-type {\n",
       "        vertical-align: middle;\n",
       "    }\n",
       "\n",
       "    .dataframe tbody tr th {\n",
       "        vertical-align: top;\n",
       "    }\n",
       "\n",
       "    .dataframe thead th {\n",
       "        text-align: right;\n",
       "    }\n",
       "</style>\n",
       "<table border=\"1\" class=\"dataframe\">\n",
       "  <thead>\n",
       "    <tr style=\"text-align: right;\">\n",
       "      <th></th>\n",
       "      <th>travel_from</th>\n",
       "      <th>car_type</th>\n",
       "      <th>number_of_ticket</th>\n",
       "      <th>Year</th>\n",
       "      <th>Month</th>\n",
       "      <th>Week</th>\n",
       "      <th>Day</th>\n",
       "      <th>Dayofweek</th>\n",
       "      <th>Dayofyear</th>\n",
       "      <th>Is_month_end</th>\n",
       "      <th>Is_month_start</th>\n",
       "      <th>Hour</th>\n",
       "      <th>Minute</th>\n",
       "      <th>Elapsed</th>\n",
       "    </tr>\n",
       "  </thead>\n",
       "  <tbody>\n",
       "    <tr>\n",
       "      <th>1442</th>\n",
       "      <td>Migori</td>\n",
       "      <td>Bus</td>\n",
       "      <td>1</td>\n",
       "      <td>2017</td>\n",
       "      <td>10</td>\n",
       "      <td>42</td>\n",
       "      <td>17</td>\n",
       "      <td>1</td>\n",
       "      <td>290</td>\n",
       "      <td>False</td>\n",
       "      <td>False</td>\n",
       "      <td>7</td>\n",
       "      <td>15</td>\n",
       "      <td>1508224500</td>\n",
       "    </tr>\n",
       "    <tr>\n",
       "      <th>5437</th>\n",
       "      <td>Migori</td>\n",
       "      <td>Bus</td>\n",
       "      <td>1</td>\n",
       "      <td>2017</td>\n",
       "      <td>11</td>\n",
       "      <td>46</td>\n",
       "      <td>19</td>\n",
       "      <td>6</td>\n",
       "      <td>323</td>\n",
       "      <td>False</td>\n",
       "      <td>False</td>\n",
       "      <td>7</td>\n",
       "      <td>12</td>\n",
       "      <td>1511075520</td>\n",
       "    </tr>\n",
       "    <tr>\n",
       "      <th>5710</th>\n",
       "      <td>Keroka</td>\n",
       "      <td>Bus</td>\n",
       "      <td>1</td>\n",
       "      <td>2017</td>\n",
       "      <td>11</td>\n",
       "      <td>47</td>\n",
       "      <td>26</td>\n",
       "      <td>6</td>\n",
       "      <td>330</td>\n",
       "      <td>False</td>\n",
       "      <td>False</td>\n",
       "      <td>7</td>\n",
       "      <td>5</td>\n",
       "      <td>1511679900</td>\n",
       "    </tr>\n",
       "    <tr>\n",
       "      <th>5777</th>\n",
       "      <td>Homa Bay</td>\n",
       "      <td>Bus</td>\n",
       "      <td>5</td>\n",
       "      <td>2017</td>\n",
       "      <td>11</td>\n",
       "      <td>48</td>\n",
       "      <td>27</td>\n",
       "      <td>0</td>\n",
       "      <td>331</td>\n",
       "      <td>False</td>\n",
       "      <td>False</td>\n",
       "      <td>7</td>\n",
       "      <td>10</td>\n",
       "      <td>1511766600</td>\n",
       "    </tr>\n",
       "    <tr>\n",
       "      <th>5778</th>\n",
       "      <td>Migori</td>\n",
       "      <td>Bus</td>\n",
       "      <td>31</td>\n",
       "      <td>2017</td>\n",
       "      <td>11</td>\n",
       "      <td>48</td>\n",
       "      <td>27</td>\n",
       "      <td>0</td>\n",
       "      <td>331</td>\n",
       "      <td>False</td>\n",
       "      <td>False</td>\n",
       "      <td>7</td>\n",
       "      <td>12</td>\n",
       "      <td>1511766720</td>\n",
       "    </tr>\n",
       "  </tbody>\n",
       "</table>\n",
       "</div>"
      ],
      "text/plain": [
       "     travel_from car_type  number_of_ticket  Year  Month  Week  Day  \\\n",
       "1442      Migori      Bus                 1  2017     10    42   17   \n",
       "5437      Migori      Bus                 1  2017     11    46   19   \n",
       "5710      Keroka      Bus                 1  2017     11    47   26   \n",
       "5777    Homa Bay      Bus                 5  2017     11    48   27   \n",
       "5778      Migori      Bus                31  2017     11    48   27   \n",
       "\n",
       "      Dayofweek  Dayofyear  Is_month_end  Is_month_start  Hour  Minute  \\\n",
       "1442          1        290         False           False     7      15   \n",
       "5437          6        323         False           False     7      12   \n",
       "5710          6        330         False           False     7       5   \n",
       "5777          0        331         False           False     7      10   \n",
       "5778          0        331         False           False     7      12   \n",
       "\n",
       "         Elapsed  \n",
       "1442  1508224500  \n",
       "5437  1511075520  \n",
       "5710  1511679900  \n",
       "5777  1511766600  \n",
       "5778  1511766720  "
      ]
     },
     "execution_count": 11,
     "metadata": {},
     "output_type": "execute_result"
    }
   ],
   "source": [
    "train_df.head()"
   ]
  },
  {
   "cell_type": "code",
   "execution_count": 12,
   "metadata": {},
   "outputs": [],
   "source": [
    "cat_names = ['travel_from', 'car_type', 'Year', 'Month', 'Week', 'Day', 'Dayofweek', 'Is_month_end',\n",
    "             'Is_month_start', 'Hour', 'Minute']"
   ]
  },
  {
   "cell_type": "code",
   "execution_count": 13,
   "metadata": {},
   "outputs": [],
   "source": [
    "save_list(cat_names, PATH/'cat_names.txt')"
   ]
  },
  {
   "cell_type": "code",
   "execution_count": 14,
   "metadata": {},
   "outputs": [],
   "source": [
    "train_df.to_csv(PATH/'train.csv')\n",
    "valid_df.to_csv(PATH/'valid.csv')\n",
    "test_df.to_csv(PATH/'test.csv')"
   ]
  },
  {
   "cell_type": "markdown",
   "metadata": {},
   "source": [
    "# Medscheme Preprocess"
   ]
  },
  {
   "cell_type": "code",
   "execution_count": 158,
   "metadata": {},
   "outputs": [
    {
     "name": "stderr",
     "output_type": "stream",
     "text": [
      "/Users/janmarais/anaconda3/envs/fastaiv1/lib/python3.6/site-packages/IPython/core/interactiveshell.py:2785: DtypeWarning: Columns (6,7,8,9,10,11,12,13,14,26,38,39,40,41,43,49,561) have mixed types. Specify dtype option on import or set low_memory=False.\n",
      "  interactivity=interactivity, compiler=compiler, result=result)\n"
     ]
    }
   ],
   "source": [
    "df = pd.read_csv(PATH/'Clean_dataset.csv')"
   ]
  },
  {
   "cell_type": "code",
   "execution_count": 159,
   "metadata": {},
   "outputs": [],
   "source": [
    "# df=df.sample(10000)"
   ]
  },
  {
   "cell_type": "code",
   "execution_count": 73,
   "metadata": {},
   "outputs": [
    {
     "data": {
      "text/plain": [
       "(452297, 618)"
      ]
     },
     "execution_count": 73,
     "metadata": {},
     "output_type": "execute_result"
    }
   ],
   "source": [
    "df.shape"
   ]
  },
  {
   "cell_type": "markdown",
   "metadata": {},
   "source": [
    "+ Clinical Coding\n",
    "    - RFA\n",
    "    - icd_1\n",
    "    - cpt_1\n",
    "    - nappi_1\n",
    "    - nrpl_1\n",
    "    - icd_1_associated\n",
    "    - CODE_DESCRIPTION\n",
    "    - SUBGROUP_DESCRIPTION\n",
    "    - GROUP_DESCRIPTION\n",
    "    - CATEGORY_DESCRIPTION\n",
    "    - rfa_edc\n",
    "    - icd_1_edc\n",
    "    - icd_1_ass_edc\n",
    "    \n",
    "+ Beneficiary informations\n",
    "    - acg\n",
    "    - adg_count\n",
    "+ Provider information\n",
    "+ Trend and claiming information"
   ]
  },
  {
   "cell_type": "code",
   "execution_count": 160,
   "metadata": {},
   "outputs": [],
   "source": [
    "keep_vars = ['RFA','icd_1','cpt_1','nappi_1','nrpl_1','icd_1_associated',\n",
    "             'CODE_DESCRIPTION','SUBGROUP_DESCRIPTION','GROUP_DESCRIPTION',\n",
    "             'CATEGORY_DESCRIPTION','rfa_edc','icd_1_edc','icd_1_ass_edc',\n",
    "             'acg', 'adg_count']\n",
    "\n",
    "cat_names = ['RFA','icd_1','cpt_1','nappi_1','nrpl_1','icd_1_associated',\n",
    "            'CODE_DESCRIPTION','SUBGROUP_DESCRIPTION','GROUP_DESCRIPTION',\n",
    "            'CATEGORY_DESCRIPTION','rfa_edc','icd_1_edc','icd_1_ass_edc']"
   ]
  },
  {
   "cell_type": "code",
   "execution_count": 161,
   "metadata": {},
   "outputs": [],
   "source": [
    "save_list(cat_names, PATH/'cat_names.txt')"
   ]
  },
  {
   "cell_type": "code",
   "execution_count": 162,
   "metadata": {},
   "outputs": [],
   "source": [
    "dep_var = 'TOTAL_COST'"
   ]
  },
  {
   "cell_type": "code",
   "execution_count": 163,
   "metadata": {},
   "outputs": [],
   "source": [
    "df = df.loc[:, keep_vars+[dep_var]]"
   ]
  },
  {
   "cell_type": "code",
   "execution_count": 164,
   "metadata": {},
   "outputs": [],
   "source": [
    "train_df, valid_df = train_test_split(df, test_size=0.15)"
   ]
  },
  {
   "cell_type": "code",
   "execution_count": 165,
   "metadata": {},
   "outputs": [],
   "source": [
    "train_df.to_csv(PATH/'train.csv')\n",
    "valid_df.to_csv(PATH/'valid.csv')\n",
    "# test_df.to_csv(PATH/'test.csv')"
   ]
  },
  {
   "cell_type": "markdown",
   "metadata": {},
   "source": [
    "# Modeling"
   ]
  },
  {
   "cell_type": "markdown",
   "metadata": {},
   "source": [
    "+ implement rankGuases\n",
    "+ think about adding cont vars with small amount of unique values as cats"
   ]
  },
  {
   "cell_type": "code",
   "execution_count": 166,
   "metadata": {},
   "outputs": [],
   "source": [
    "ds_name = 'medscheme'\n",
    "PATH = Path('../data/')/ds_name"
   ]
  },
  {
   "cell_type": "code",
   "execution_count": 167,
   "metadata": {},
   "outputs": [
    {
     "name": "stderr",
     "output_type": "stream",
     "text": [
      "/Users/janmarais/anaconda3/envs/fastaiv1/lib/python3.6/site-packages/IPython/core/interactiveshell.py:2785: DtypeWarning: Columns (3) have mixed types. Specify dtype option on import or set low_memory=False.\n",
      "  interactivity=interactivity, compiler=compiler, result=result)\n"
     ]
    }
   ],
   "source": [
    "train_df = pd.read_csv(PATH/'train.csv', index_col=0)\n",
    "valid_df = pd.read_csv(PATH/'valid.csv', index_col=0)\n",
    "# test_df = pd.read_csv(PATH/'test.csv')"
   ]
  },
  {
   "cell_type": "code",
   "execution_count": 168,
   "metadata": {},
   "outputs": [],
   "source": [
    "train_df.loc[train_df[dep_var]==0, dep_var]=1\n",
    "valid_df.loc[valid_df[dep_var]==0, dep_var]=1"
   ]
  },
  {
   "cell_type": "code",
   "execution_count": 169,
   "metadata": {},
   "outputs": [],
   "source": [
    "dep_var = 'TOTAL_COST'\n",
    "cat_names = load_list(PATH/'cat_names.txt')"
   ]
  },
  {
   "cell_type": "code",
   "execution_count": 170,
   "metadata": {},
   "outputs": [],
   "source": [
    "tfms = [FillMissing, Categorify]"
   ]
  },
  {
   "cell_type": "code",
   "execution_count": 171,
   "metadata": {},
   "outputs": [],
   "source": [
    "bs=128\n",
    "layer_spec = [100,100,100,100]\n",
    "ps = [0.2,0.2,0.2,0.2]\n",
    "log_output = True\n",
    "regression = True"
   ]
  },
  {
   "cell_type": "code",
   "execution_count": 172,
   "metadata": {},
   "outputs": [],
   "source": [
    "data = TabularDataBunch.from_df(PATH, train_df, valid_df, dep_var, tfms=tfms, cat_names=cat_names, bs=bs, log_output=True)"
   ]
  },
  {
   "cell_type": "code",
   "execution_count": 173,
   "metadata": {},
   "outputs": [],
   "source": [
    "emb_szs = {n:my_def_emb_sz(train_df, n, {}, constant=None) for n in cat_names}"
   ]
  },
  {
   "cell_type": "code",
   "execution_count": 174,
   "metadata": {},
   "outputs": [],
   "source": [
    "if regression: y_range = (torch.min(data.train_ds.y), torch.max(data.train_ds.y))\n",
    "else: y_range = None"
   ]
  },
  {
   "cell_type": "code",
   "execution_count": 175,
   "metadata": {},
   "outputs": [],
   "source": [
    "if regression: \n",
    "    if log_output: mets = [log_mae]\n",
    "    else: mets = [mae]\n",
    "else:\n",
    "    mets = [accuracy, gini_tensor]"
   ]
  },
  {
   "cell_type": "code",
   "execution_count": 176,
   "metadata": {},
   "outputs": [],
   "source": [
    "learn = get_tabular_learner(data, layers=layer_spec, metrics=mets, emb_szs=emb_szs, y_range=y_range,\n",
    "                            ps=ps, emb_drop=0.2)"
   ]
  },
  {
   "cell_type": "code",
   "execution_count": 177,
   "metadata": {},
   "outputs": [
    {
     "data": {
      "application/vnd.jupyter.widget-view+json": {
       "model_id": "130ac3633c7f4d19bb5d285d9737db14",
       "version_major": 2,
       "version_minor": 0
      },
      "text/plain": [
       "VBox(children=(HBox(children=(IntProgress(value=0, max=1), HTML(value='0.00% [0/1 00:00<00:00]'))), HTML(value…"
      ]
     },
     "metadata": {},
     "output_type": "display_data"
    },
    {
     "data": {
      "image/png": "[encoded data removed]",
      "text/plain": [
       "<Figure size 432x288 with 1 Axes>"
      ]
     },
     "metadata": {
      "needs_background": "light"
     },
     "output_type": "display_data"
    }
   ],
   "source": [
    "learn.lr_find()\n",
    "learn.recorder.plot()"
   ]
  },
  {
   "cell_type": "code",
   "execution_count": 178,
   "metadata": {},
   "outputs": [
    {
     "data": {
      "application/vnd.jupyter.widget-view+json": {
       "model_id": "",
       "version_major": 2,
       "version_minor": 0
      },
      "text/plain": [
       "VBox(children=(HBox(children=(IntProgress(value=0, max=8), HTML(value='0.00% [0/8 00:00<00:00]'))), HTML(value…"
      ]
     },
     "metadata": {},
     "output_type": "display_data"
    },
    {
     "name": "stdout",
     "output_type": "stream",
     "text": [
      "Total time: 47:49\n",
      "epoch  train loss  valid loss  log_mae     \n",
      "1      0.528687    0.521715    19814.949723  (03:48)\n",
      "2      0.518227    0.504596    19633.437009  (06:15)\n",
      "3      0.527472    0.503582    19632.563657  (06:53)\n",
      "4      0.499112    0.507041    19991.823954  (06:42)\n",
      "5      0.508744    0.496233    19435.319159  (06:31)\n",
      "6      0.496445    0.494201    19425.400228  (06:15)\n",
      "7      0.482098    0.494703    19345.398978  (05:50)\n",
      "8      0.451787    0.496380    19305.868574  (05:32)\n",
      "\n"
     ]
    }
   ],
   "source": [
    "learn.fit_one_cycle(8, 2e-2)"
   ]
  },
  {
   "cell_type": "code",
   "execution_count": 46,
   "metadata": {},
   "outputs": [
    {
     "data": {
      "application/vnd.jupyter.widget-view+json": {
       "model_id": "",
       "version_major": 2,
       "version_minor": 0
      },
      "text/plain": [
       "HBox(children=(IntProgress(value=0, max=4), HTML(value='')))"
      ]
     },
     "metadata": {},
     "output_type": "display_data"
    },
    {
     "data": {
      "application/vnd.jupyter.widget-view+json": {
       "model_id": "",
       "version_major": 2,
       "version_minor": 0
      },
      "text/plain": [
       "HBox(children=(IntProgress(value=0, max=4), HTML(value='0.00% [0/4 00:00<00:00]')))"
      ]
     },
     "metadata": {},
     "output_type": "display_data"
    },
    {
     "name": "stderr",
     "output_type": "stream",
     "text": [
      "/Users/janmarais/anaconda3/envs/fastaiv1/lib/python3.6/site-packages/torch/nn/functional.py:1101: UserWarning: nn.functional.sigmoid is deprecated. Use torch.sigmoid instead.\n",
      "  warnings.warn(\"nn.functional.sigmoid is deprecated. Use torch.sigmoid instead.\")\n"
     ]
    }
   ],
   "source": [
    "pred, targ = learn.get_preds()"
   ]
  },
  {
   "cell_type": "code",
   "execution_count": 49,
   "metadata": {},
   "outputs": [
    {
     "data": {
      "text/plain": [
       "tensor(1.0137)"
      ]
     },
     "execution_count": 49,
     "metadata": {},
     "output_type": "execute_result"
    }
   ],
   "source": [
    "mae(pred, targ)"
   ]
  },
  {
   "cell_type": "code",
   "execution_count": 50,
   "metadata": {},
   "outputs": [
    {
     "data": {
      "text/plain": [
       "tensor(6.5745)"
      ]
     },
     "execution_count": 50,
     "metadata": {},
     "output_type": "execute_result"
    }
   ],
   "source": [
    "log_mae(pred, targ)"
   ]
  },
  {
   "cell_type": "code",
   "execution_count": 73,
   "metadata": {},
   "outputs": [],
   "source": [
    "pred = torch.softmax(pred, 1)[:,1]"
   ]
  },
  {
   "cell_type": "code",
   "execution_count": 74,
   "metadata": {},
   "outputs": [
    {
     "data": {
      "text/plain": [
       "0.26479653178411255"
      ]
     },
     "execution_count": 74,
     "metadata": {},
     "output_type": "execute_result"
    }
   ],
   "source": [
    "gini_normalized(targ.numpy(), pred.numpy())"
   ]
  },
  {
   "cell_type": "code",
   "execution_count": 75,
   "metadata": {},
   "outputs": [
    {
     "data": {
      "text/plain": [
       "0.26479653379201684"
      ]
     },
     "execution_count": 75,
     "metadata": {},
     "output_type": "execute_result"
    }
   ],
   "source": [
    "2 * roc_auc_score(targ.numpy(), pred.numpy()) - 1"
   ]
  },
  {
   "cell_type": "markdown",
   "metadata": {},
   "source": [
    "# LGBM"
   ]
  },
  {
   "cell_type": "code",
   "execution_count": 4,
   "metadata": {},
   "outputs": [
    {
     "name": "stderr",
     "output_type": "stream",
     "text": [
      "/Users/janmarais/anaconda3/envs/fastaiv1/lib/python3.6/site-packages/lightgbm/__init__.py:46: UserWarning: Starting from version 2.2.1, the library file in distribution wheels for macOS is built by the Apple Clang (Xcode_9.4.1) compiler.\n",
      "This means that in case of installing LightGBM from PyPI via the ``pip install lightgbm`` command, you don't need to install the gcc compiler anymore.\n",
      "Instead of that, you need to install the OpenMP library, which is required for running LightGBM on the system with the Apple Clang compiler.\n",
      "You can install the OpenMP library by the following command: ``brew install libomp``.\n",
      "  \"You can install the OpenMP library by the following command: ``brew install libomp``.\", UserWarning)\n"
     ]
    }
   ],
   "source": [
    "import lightgbm as lgb"
   ]
  },
  {
   "cell_type": "code",
   "execution_count": 33,
   "metadata": {},
   "outputs": [],
   "source": [
    "ds_name = 'bus'\n",
    "PATH = Path('../data/')/ds_name\n",
    "\n",
    "train_df = pd.read_csv(PATH/'train.csv', index_col=0)\n",
    "valid_df = pd.read_csv(PATH/'valid.csv', index_col=0)\n",
    "# test_df = pd.read_csv(PATH/'test.csv')\n",
    "\n",
    "dep_var = 'number_of_ticket'\n",
    "cat_names = load_list(PATH/'cat_names.txt')\n",
    "\n",
    "data = TabularDataBunch.from_df(PATH, train_df, valid_df, dep_var, tfms=tfms, cat_names=cat_names, bs=128, log_output=False)\n",
    "\n",
    "X_train = np.hstack([data.train_ds.cats.numpy(),data.train_ds.conts.numpy()])\n",
    "X_valid = np.hstack([data.valid_ds.cats.numpy(),data.valid_ds.conts.numpy()])\n",
    "\n",
    "y_train = data.train_ds.y.numpy()\n",
    "y_valid = data.valid_ds.y.numpy()"
   ]
  },
  {
   "cell_type": "code",
   "execution_count": 39,
   "metadata": {},
   "outputs": [],
   "source": [
    "ft_names = data.train_ds.cat_names + data.train_ds.cont_names\n",
    "\n",
    "train_data = lgb.Dataset(X_train, label=y_train, feature_name=ft_names, categorical_feature=cat_names, free_raw_data=False)\n",
    "valid_data = lgb.Dataset(X_valid, label=y_valid, feature_name=ft_names, categorical_feature=cat_names, free_raw_data=False)"
   ]
  },
  {
   "cell_type": "code",
   "execution_count": 51,
   "metadata": {},
   "outputs": [],
   "source": [
    "param = {'num_iterations':200, 'objective':'regression', 'learning_rate':0.1, 'max_depth':2}\n",
    "param['metric'] = 'mae'"
   ]
  },
  {
   "cell_type": "code",
   "execution_count": 52,
   "metadata": {},
   "outputs": [
    {
     "name": "stdout",
     "output_type": "stream",
     "text": [
      "[1]\ttraining's l1: 5.54241\tvalid_1's l1: 7.43536\n",
      "Training until validation scores don't improve for 10 rounds.\n",
      "[2]\ttraining's l1: 5.37487\tvalid_1's l1: 7.19132\n",
      "[3]\ttraining's l1: 5.21926\tvalid_1's l1: 7.01203\n",
      "[4]\ttraining's l1: 5.08684\tvalid_1's l1: 6.82317\n",
      "[5]\ttraining's l1: 4.9624\tvalid_1's l1: 6.68418\n",
      "[6]\ttraining's l1: 4.86096\tvalid_1's l1: 6.53673\n",
      "[7]\ttraining's l1: 4.77204\tvalid_1's l1: 6.42309\n",
      "[8]\ttraining's l1: 4.69441\tvalid_1's l1: 6.31014\n",
      "[9]\ttraining's l1: 4.63681\tvalid_1's l1: 6.19411\n",
      "[10]\ttraining's l1: 4.57392\tvalid_1's l1: 6.09762\n",
      "[11]\ttraining's l1: 4.53244\tvalid_1's l1: 6.0138\n",
      "[12]\ttraining's l1: 4.48011\tvalid_1's l1: 5.92918\n",
      "[13]\ttraining's l1: 4.44807\tvalid_1's l1: 5.83627\n",
      "[14]\ttraining's l1: 4.41215\tvalid_1's l1: 5.80713\n",
      "[15]\ttraining's l1: 4.39059\tvalid_1's l1: 5.77989\n",
      "[16]\ttraining's l1: 4.36467\tvalid_1's l1: 5.72499\n",
      "[17]\ttraining's l1: 4.34815\tvalid_1's l1: 5.70189\n",
      "[18]\ttraining's l1: 4.32206\tvalid_1's l1: 5.65862\n",
      "[19]\ttraining's l1: 4.29415\tvalid_1's l1: 5.63235\n",
      "[20]\ttraining's l1: 4.27653\tvalid_1's l1: 5.59606\n",
      "[21]\ttraining's l1: 4.26477\tvalid_1's l1: 5.58114\n",
      "[22]\ttraining's l1: 4.24335\tvalid_1's l1: 5.54138\n",
      "[23]\ttraining's l1: 4.22174\tvalid_1's l1: 5.52375\n",
      "[24]\ttraining's l1: 4.2115\tvalid_1's l1: 5.50807\n",
      "[25]\ttraining's l1: 4.1947\tvalid_1's l1: 5.49195\n",
      "[26]\ttraining's l1: 4.1658\tvalid_1's l1: 5.46018\n",
      "[27]\ttraining's l1: 4.15435\tvalid_1's l1: 5.4472\n",
      "[28]\ttraining's l1: 4.13352\tvalid_1's l1: 5.42449\n",
      "[29]\ttraining's l1: 4.10757\tvalid_1's l1: 5.39538\n",
      "[30]\ttraining's l1: 4.09176\tvalid_1's l1: 5.3666\n",
      "[31]\ttraining's l1: 4.08416\tvalid_1's l1: 5.35813\n",
      "[32]\ttraining's l1: 4.07825\tvalid_1's l1: 5.34934\n",
      "[33]\ttraining's l1: 4.07415\tvalid_1's l1: 5.34603\n",
      "[34]\ttraining's l1: 4.05088\tvalid_1's l1: 5.32182\n",
      "[35]\ttraining's l1: 4.03927\tvalid_1's l1: 5.30952\n",
      "[36]\ttraining's l1: 4.03214\tvalid_1's l1: 5.29087\n",
      "[37]\ttraining's l1: 4.02548\tvalid_1's l1: 5.28679\n",
      "[38]\ttraining's l1: 4.02083\tvalid_1's l1: 5.28497\n",
      "[39]\ttraining's l1: 4.00275\tvalid_1's l1: 5.26959\n",
      "[40]\ttraining's l1: 3.99316\tvalid_1's l1: 5.26336\n",
      "[41]\ttraining's l1: 3.9871\tvalid_1's l1: 5.24687\n",
      "[42]\ttraining's l1: 3.9801\tvalid_1's l1: 5.24051\n",
      "[43]\ttraining's l1: 3.97582\tvalid_1's l1: 5.23947\n",
      "[44]\ttraining's l1: 3.97603\tvalid_1's l1: 5.2397\n",
      "[45]\ttraining's l1: 3.97062\tvalid_1's l1: 5.23644\n",
      "[46]\ttraining's l1: 3.96762\tvalid_1's l1: 5.23815\n",
      "[47]\ttraining's l1: 3.96162\tvalid_1's l1: 5.23242\n",
      "[48]\ttraining's l1: 3.9544\tvalid_1's l1: 5.22898\n",
      "[49]\ttraining's l1: 3.95176\tvalid_1's l1: 5.22929\n",
      "[50]\ttraining's l1: 3.9471\tvalid_1's l1: 5.22336\n",
      "[51]\ttraining's l1: 3.94321\tvalid_1's l1: 5.20661\n",
      "[52]\ttraining's l1: 3.93542\tvalid_1's l1: 5.20806\n",
      "[53]\ttraining's l1: 3.9208\tvalid_1's l1: 5.1951\n",
      "[54]\ttraining's l1: 3.91833\tvalid_1's l1: 5.19494\n",
      "[55]\ttraining's l1: 3.91501\tvalid_1's l1: 5.19311\n",
      "[56]\ttraining's l1: 3.9114\tvalid_1's l1: 5.18811\n",
      "[57]\ttraining's l1: 3.90098\tvalid_1's l1: 5.17136\n",
      "[58]\ttraining's l1: 3.89986\tvalid_1's l1: 5.17343\n",
      "[59]\ttraining's l1: 3.88851\tvalid_1's l1: 5.17047\n",
      "[60]\ttraining's l1: 3.87471\tvalid_1's l1: 5.15891\n",
      "[61]\ttraining's l1: 3.8734\tvalid_1's l1: 5.15907\n",
      "[62]\ttraining's l1: 3.87029\tvalid_1's l1: 5.16031\n",
      "[63]\ttraining's l1: 3.86123\tvalid_1's l1: 5.14296\n",
      "[64]\ttraining's l1: 3.85936\tvalid_1's l1: 5.13734\n",
      "[65]\ttraining's l1: 3.85518\tvalid_1's l1: 5.13558\n",
      "[66]\ttraining's l1: 3.84953\tvalid_1's l1: 5.13348\n",
      "[67]\ttraining's l1: 3.84878\tvalid_1's l1: 5.12622\n",
      "[68]\ttraining's l1: 3.84697\tvalid_1's l1: 5.12666\n",
      "[69]\ttraining's l1: 3.84135\tvalid_1's l1: 5.12411\n",
      "[70]\ttraining's l1: 3.82717\tvalid_1's l1: 5.12122\n",
      "[71]\ttraining's l1: 3.8241\tvalid_1's l1: 5.11888\n",
      "[72]\ttraining's l1: 3.82347\tvalid_1's l1: 5.11829\n",
      "[73]\ttraining's l1: 3.82153\tvalid_1's l1: 5.11822\n",
      "[74]\ttraining's l1: 3.81485\tvalid_1's l1: 5.09873\n",
      "[75]\ttraining's l1: 3.81212\tvalid_1's l1: 5.10135\n",
      "[76]\ttraining's l1: 3.80284\tvalid_1's l1: 5.09898\n",
      "[77]\ttraining's l1: 3.79998\tvalid_1's l1: 5.09095\n",
      "[78]\ttraining's l1: 3.79864\tvalid_1's l1: 5.09094\n",
      "[79]\ttraining's l1: 3.79564\tvalid_1's l1: 5.09086\n",
      "[80]\ttraining's l1: 3.79096\tvalid_1's l1: 5.09051\n",
      "[81]\ttraining's l1: 3.78108\tvalid_1's l1: 5.0912\n",
      "[82]\ttraining's l1: 3.77522\tvalid_1's l1: 5.08061\n",
      "[83]\ttraining's l1: 3.76759\tvalid_1's l1: 5.08242\n",
      "[84]\ttraining's l1: 3.76701\tvalid_1's l1: 5.08233\n",
      "[85]\ttraining's l1: 3.76747\tvalid_1's l1: 5.07671\n",
      "[86]\ttraining's l1: 3.76609\tvalid_1's l1: 5.07619\n",
      "[87]\ttraining's l1: 3.76217\tvalid_1's l1: 5.07621\n",
      "[88]\ttraining's l1: 3.75992\tvalid_1's l1: 5.07432\n",
      "[89]\ttraining's l1: 3.75703\tvalid_1's l1: 5.07143\n",
      "[90]\ttraining's l1: 3.75091\tvalid_1's l1: 5.06975\n",
      "[91]\ttraining's l1: 3.74419\tvalid_1's l1: 5.05342\n",
      "[92]\ttraining's l1: 3.74194\tvalid_1's l1: 5.0551\n",
      "[93]\ttraining's l1: 3.74214\tvalid_1's l1: 5.05073\n",
      "[94]\ttraining's l1: 3.74268\tvalid_1's l1: 5.04608\n",
      "[95]\ttraining's l1: 3.74288\tvalid_1's l1: 5.04534\n",
      "[96]\ttraining's l1: 3.73848\tvalid_1's l1: 5.04858\n",
      "[97]\ttraining's l1: 3.73598\tvalid_1's l1: 5.04614\n",
      "[98]\ttraining's l1: 3.73209\tvalid_1's l1: 5.04554\n",
      "[99]\ttraining's l1: 3.73043\tvalid_1's l1: 5.04223\n",
      "[100]\ttraining's l1: 3.72873\tvalid_1's l1: 5.04277\n",
      "[101]\ttraining's l1: 3.72924\tvalid_1's l1: 5.03862\n",
      "[102]\ttraining's l1: 3.72913\tvalid_1's l1: 5.03876\n",
      "[103]\ttraining's l1: 3.7238\tvalid_1's l1: 5.04073\n",
      "[104]\ttraining's l1: 3.71853\tvalid_1's l1: 5.04376\n",
      "[105]\ttraining's l1: 3.71685\tvalid_1's l1: 5.04346\n",
      "[106]\ttraining's l1: 3.71392\tvalid_1's l1: 5.04407\n",
      "[107]\ttraining's l1: 3.71381\tvalid_1's l1: 5.04362\n",
      "[108]\ttraining's l1: 3.71237\tvalid_1's l1: 5.04068\n",
      "[109]\ttraining's l1: 3.7134\tvalid_1's l1: 5.04131\n",
      "[110]\ttraining's l1: 3.71108\tvalid_1's l1: 5.04329\n",
      "[111]\ttraining's l1: 3.70858\tvalid_1's l1: 5.04396\n",
      "Early stopping, best iteration is:\n",
      "[101]\ttraining's l1: 3.72924\tvalid_1's l1: 5.03862\n"
     ]
    },
    {
     "name": "stderr",
     "output_type": "stream",
     "text": [
      "/Users/janmarais/anaconda3/envs/fastaiv1/lib/python3.6/site-packages/lightgbm/engine.py:113: UserWarning: Found `num_iterations` in params. Will use it instead of argument\n",
      "  warnings.warn(\"Found `{}` in params. Will use it instead of argument\".format(alias))\n",
      "/Users/janmarais/anaconda3/envs/fastaiv1/lib/python3.6/site-packages/lightgbm/basic.py:1184: UserWarning: Using categorical_feature in Dataset.\n",
      "  warnings.warn('Using categorical_feature in Dataset.')\n"
     ]
    }
   ],
   "source": [
    "bst = lgb.train(param, train_data, num_round, valid_sets=[train_data,valid_data], early_stopping_rounds=10)"
   ]
  },
  {
   "cell_type": "code",
   "execution_count": 26,
   "metadata": {},
   "outputs": [],
   "source": [
    "y_pred = bst.predict(X_valid, num_iteration=bst.best_iteration)"
   ]
  },
  {
   "cell_type": "code",
   "execution_count": 30,
   "metadata": {},
   "outputs": [
    {
     "data": {
      "text/plain": [
       "4.6001093448588275"
      ]
     },
     "execution_count": 30,
     "metadata": {},
     "output_type": "execute_result"
    }
   ],
   "source": [
    "mean_absolute_error(y_valid, y_pred)"
   ]
  },
  {
   "cell_type": "markdown",
   "metadata": {},
   "source": [
    "# RF"
   ]
  },
  {
   "cell_type": "code",
   "execution_count": 29,
   "metadata": {},
   "outputs": [],
   "source": [
    "from sklearn.ensemble import RandomForestRegressor\n",
    "from sklearn.metrics import mean_absolute_error"
   ]
  },
  {
   "cell_type": "code",
   "execution_count": 49,
   "metadata": {},
   "outputs": [],
   "source": [
    "X_train = np.hstack([data.train_ds.cats.numpy(),data.train_ds.conts.numpy()])\n",
    "X_valid = np.hstack([data.valid_ds.cats.numpy(),data.valid_ds.conts.numpy()])\n",
    "\n",
    "y_train = torch.exp(data.train_ds.y).numpy()\n",
    "y_valid = torch.exp(data.valid_ds.y).numpy()"
   ]
  },
  {
   "cell_type": "code",
   "execution_count": 56,
   "metadata": {},
   "outputs": [],
   "source": [
    "m = RandomForestRegressor(n_estimators=40, max_features=0.99, min_samples_leaf=2,\n",
    "                          n_jobs=-1, oob_score=True, criterion='mae')"
   ]
  },
  {
   "cell_type": "code",
   "execution_count": 76,
   "metadata": {},
   "outputs": [],
   "source": [
    "m = RandomForestRegressor(n_estimators=100, criterion=\"mae\", n_jobs=-1, verbose=2)"
   ]
  },
  {
   "cell_type": "code",
   "execution_count": 77,
   "metadata": {},
   "outputs": [
    {
     "name": "stderr",
     "output_type": "stream",
     "text": [
      "[Parallel(n_jobs=-1)]: Using backend ThreadingBackend with 4 concurrent workers.\n"
     ]
    },
    {
     "name": "stdout",
     "output_type": "stream",
     "text": [
      "building tree 1 of 100building tree 2 of 100building tree 3 of 100\n",
      "building tree 4 of 100\n",
      "\n",
      "\n",
      "building tree 5 of 100\n",
      "building tree 6 of 100\n",
      "building tree 7 of 100\n",
      "building tree 8 of 100\n",
      "building tree 9 of 100\n",
      "building tree 10 of 100\n",
      "building tree 11 of 100\n",
      "building tree 12 of 100\n",
      "building tree 13 of 100\n",
      "building tree 14 of 100\n",
      "building tree 15 of 100\n",
      "building tree 16 of 100\n",
      "building tree 17 of 100\n",
      "building tree 18 of 100\n",
      "building tree 19 of 100\n",
      "building tree 20 of 100\n",
      "building tree 21 of 100\n",
      "building tree 22 of 100\n",
      "building tree 23 of 100\n",
      "building tree 24 of 100\n",
      "building tree 25 of 100\n",
      "building tree 26 of 100\n",
      "building tree 27 of 100\n",
      "building tree 28 of 100\n",
      "building tree 29 of 100\n",
      "building tree 30 of 100\n",
      "building tree 31 of 100\n",
      "building tree 32 of 100\n",
      "building tree 33 of 100\n",
      "building tree 34 of 100\n",
      "building tree 35 of 100\n",
      "building tree 36 of 100\n"
     ]
    },
    {
     "name": "stderr",
     "output_type": "stream",
     "text": [
      "[Parallel(n_jobs=-1)]: Done  33 tasks      | elapsed:   16.1s\n"
     ]
    },
    {
     "name": "stdout",
     "output_type": "stream",
     "text": [
      "building tree 37 of 100\n",
      "building tree 38 of 100\n",
      "building tree 39 of 100\n",
      "building tree 40 of 100\n",
      "building tree 41 of 100\n",
      "building tree 42 of 100\n",
      "building tree 43 of 100\n",
      "building tree 44 of 100\n",
      "building tree 45 of 100\n",
      "building tree 46 of 100\n",
      "building tree 47 of 100\n",
      "building tree 48 of 100\n",
      "building tree 49 of 100\n",
      "building tree 50 of 100\n",
      "building tree 51 of 100\n",
      "building tree 52 of 100\n",
      "building tree 53 of 100\n",
      "building tree 54 of 100\n",
      "building tree 55 of 100\n",
      "building tree 56 of 100\n",
      "building tree 57 of 100\n",
      "building tree 58 of 100\n",
      "building tree 59 of 100\n",
      "building tree 60 of 100\n",
      "building tree 61 of 100\n",
      "building tree 62 of 100\n",
      "building tree 63 of 100\n",
      "building tree 64 of 100\n",
      "building tree 65 of 100\n",
      "building tree 66 of 100\n",
      "building tree 67 of 100\n",
      "building tree 68 of 100\n",
      "building tree 69 of 100\n",
      "building tree 70 of 100\n",
      "building tree 71 of 100\n",
      "building tree 72 of 100\n",
      "building tree 73 of 100\n",
      "building tree 74 of 100\n",
      "building tree 75 of 100\n",
      "building tree 76 of 100\n",
      "building tree 77 of 100\n",
      "building tree 78 of 100\n",
      "building tree 79 of 100\n",
      "building tree 80 of 100\n",
      "building tree 81 of 100\n",
      "building tree 82 of 100\n",
      "building tree 83 of 100\n",
      "building tree 84 of 100\n",
      "building tree 85 of 100\n",
      "building tree 86 of 100\n",
      "building tree 87 of 100\n",
      "building tree 88 of 100\n",
      "building tree 89 of 100\n",
      "building tree 90 of 100\n",
      "building tree 91 of 100\n",
      "building tree 92 of 100\n",
      "building tree 93 of 100\n",
      "building tree 94 of 100\n",
      "building tree 95 of 100\n",
      "building tree 96 of 100\n",
      "building tree 97 of 100\n",
      "building tree 98 of 100\n",
      "building tree 99 of 100\n",
      "building tree 100 of 100\n"
     ]
    },
    {
     "name": "stderr",
     "output_type": "stream",
     "text": [
      "[Parallel(n_jobs=-1)]: Done 100 out of 100 | elapsed:   43.1s finished\n"
     ]
    },
    {
     "data": {
      "text/plain": [
       "RandomForestRegressor(bootstrap=True, criterion='mae', max_depth=None,\n",
       "           max_features='auto', max_leaf_nodes=None,\n",
       "           min_impurity_decrease=0.0, min_impurity_split=None,\n",
       "           min_samples_leaf=1, min_samples_split=2,\n",
       "           min_weight_fraction_leaf=0.0, n_estimators=100, n_jobs=-1,\n",
       "           oob_score=False, random_state=None, verbose=2, warm_start=False)"
      ]
     },
     "execution_count": 77,
     "metadata": {},
     "output_type": "execute_result"
    }
   ],
   "source": [
    "m.fit(X_train, y_train)"
   ]
  },
  {
   "cell_type": "code",
   "execution_count": 68,
   "metadata": {},
   "outputs": [],
   "source": [
    "preds = m.predict(X_valid)"
   ]
  },
  {
   "cell_type": "code",
   "execution_count": 69,
   "metadata": {},
   "outputs": [
    {
     "data": {
      "text/plain": [
       "0.9443887252358121"
      ]
     },
     "execution_count": 69,
     "metadata": {},
     "output_type": "execute_result"
    }
   ],
   "source": [
    "m.score(X_train, y_train)"
   ]
  },
  {
   "cell_type": "code",
   "execution_count": 70,
   "metadata": {},
   "outputs": [
    {
     "data": {
      "text/plain": [
       "0.5197356221345176"
      ]
     },
     "execution_count": 70,
     "metadata": {},
     "output_type": "execute_result"
    }
   ],
   "source": [
    "m.score(X_valid, y_valid)"
   ]
  },
  {
   "cell_type": "code",
   "execution_count": 72,
   "metadata": {},
   "outputs": [
    {
     "data": {
      "text/plain": [
       "5.049006009178961"
      ]
     },
     "execution_count": 72,
     "metadata": {},
     "output_type": "execute_result"
    }
   ],
   "source": [
    "np.mean(np.abs(y_valid-preds))"
   ]
  },
  {
   "cell_type": "code",
   "execution_count": 73,
   "metadata": {},
   "outputs": [
    {
     "data": {
      "text/plain": [
       "5.049006009178961"
      ]
     },
     "execution_count": 73,
     "metadata": {},
     "output_type": "execute_result"
    }
   ],
   "source": [
    "mean_absolute_error(y_valid, preds)"
   ]
  },
  {
   "cell_type": "code",
   "execution_count": null,
   "metadata": {},
   "outputs": [],
   "source": []
  },
  {
   "cell_type": "code",
   "execution_count": null,
   "metadata": {},
   "outputs": [],
   "source": []
  },
  {
   "cell_type": "code",
   "execution_count": null,
   "metadata": {},
   "outputs": [],
   "source": []
  }
 ],
 "metadata": {
  "kernelspec": {
   "display_name": "fastaiv1",
   "language": "python",
   "name": "fastaiv1"
  },
  "language_info": {
   "codemirror_mode": {
    "name": "ipython",
    "version": 3
   },
   "file_extension": ".py",
   "mimetype": "text/x-python",
   "name": "python",
   "nbconvert_exporter": "python",
   "pygments_lexer": "ipython3",
   "version": "3.6.6"
  }
 },
 "nbformat": 4,
 "nbformat_minor": 2
}
