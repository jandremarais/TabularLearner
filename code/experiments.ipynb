{
 "cells": [
  {
   "cell_type": "markdown",
   "metadata": {},
   "source": [
    "# Load libraries"
   ]
  },
  {
   "cell_type": "code",
   "execution_count": 1,
   "metadata": {},
   "outputs": [
    {
     "data": {
      "text/plain": [
       "'1.0.29.dev0'"
      ]
     },
     "execution_count": 1,
     "metadata": {},
     "output_type": "execute_result"
    }
   ],
   "source": [
    "import fastai\n",
    "fastai.__version__"
   ]
  },
  {
   "cell_type": "code",
   "execution_count": 62,
   "metadata": {},
   "outputs": [],
   "source": [
    "from fastai import *\n",
    "from fastai.tabular import *\n",
    "from sklearn.model_selection import train_test_split, KFold"
   ]
  },
  {
   "cell_type": "code",
   "execution_count": 63,
   "metadata": {},
   "outputs": [],
   "source": [
    "%matplotlib inline"
   ]
  },
  {
   "cell_type": "markdown",
   "metadata": {},
   "source": [
    "# Read in Data"
   ]
  },
  {
   "cell_type": "code",
   "execution_count": 72,
   "metadata": {},
   "outputs": [],
   "source": [
    "path = Path('../data')"
   ]
  },
  {
   "cell_type": "code",
   "execution_count": 64,
   "metadata": {},
   "outputs": [],
   "source": [
    "df = pd.read_csv('../data/adult.csv')"
   ]
  },
  {
   "cell_type": "code",
   "execution_count": 65,
   "metadata": {},
   "outputs": [
    {
     "data": {
      "text/html": [
       "<div>\n",
       "<style scoped>\n",
       "    .dataframe tbody tr th:only-of-type {\n",
       "        vertical-align: middle;\n",
       "    }\n",
       "\n",
       "    .dataframe tbody tr th {\n",
       "        vertical-align: top;\n",
       "    }\n",
       "\n",
       "    .dataframe thead th {\n",
       "        text-align: right;\n",
       "    }\n",
       "</style>\n",
       "<table border=\"1\" class=\"dataframe\">\n",
       "  <thead>\n",
       "    <tr style=\"text-align: right;\">\n",
       "      <th></th>\n",
       "      <th>age</th>\n",
       "      <th>workclass</th>\n",
       "      <th>fnlwgt</th>\n",
       "      <th>education</th>\n",
       "      <th>education-num</th>\n",
       "      <th>marital-status</th>\n",
       "      <th>occupation</th>\n",
       "      <th>relationship</th>\n",
       "      <th>race</th>\n",
       "      <th>sex</th>\n",
       "      <th>capital-gain</th>\n",
       "      <th>capital-loss</th>\n",
       "      <th>hours-per-week</th>\n",
       "      <th>native-country</th>\n",
       "      <th>&gt;=50k</th>\n",
       "    </tr>\n",
       "  </thead>\n",
       "  <tbody>\n",
       "    <tr>\n",
       "      <th>0</th>\n",
       "      <td>49</td>\n",
       "      <td>Private</td>\n",
       "      <td>101320</td>\n",
       "      <td>Assoc-acdm</td>\n",
       "      <td>12.0</td>\n",
       "      <td>Married-civ-spouse</td>\n",
       "      <td>NaN</td>\n",
       "      <td>Wife</td>\n",
       "      <td>White</td>\n",
       "      <td>Female</td>\n",
       "      <td>0</td>\n",
       "      <td>1902</td>\n",
       "      <td>40</td>\n",
       "      <td>United-States</td>\n",
       "      <td>1</td>\n",
       "    </tr>\n",
       "    <tr>\n",
       "      <th>1</th>\n",
       "      <td>44</td>\n",
       "      <td>Private</td>\n",
       "      <td>236746</td>\n",
       "      <td>Masters</td>\n",
       "      <td>14.0</td>\n",
       "      <td>Divorced</td>\n",
       "      <td>Exec-managerial</td>\n",
       "      <td>Not-in-family</td>\n",
       "      <td>White</td>\n",
       "      <td>Male</td>\n",
       "      <td>10520</td>\n",
       "      <td>0</td>\n",
       "      <td>45</td>\n",
       "      <td>United-States</td>\n",
       "      <td>1</td>\n",
       "    </tr>\n",
       "    <tr>\n",
       "      <th>2</th>\n",
       "      <td>38</td>\n",
       "      <td>Private</td>\n",
       "      <td>96185</td>\n",
       "      <td>HS-grad</td>\n",
       "      <td>NaN</td>\n",
       "      <td>Divorced</td>\n",
       "      <td>NaN</td>\n",
       "      <td>Unmarried</td>\n",
       "      <td>Black</td>\n",
       "      <td>Female</td>\n",
       "      <td>0</td>\n",
       "      <td>0</td>\n",
       "      <td>32</td>\n",
       "      <td>United-States</td>\n",
       "      <td>0</td>\n",
       "    </tr>\n",
       "  </tbody>\n",
       "</table>\n",
       "</div>"
      ],
      "text/plain": [
       "   age workclass  fnlwgt    education  education-num       marital-status  \\\n",
       "0   49   Private  101320   Assoc-acdm           12.0   Married-civ-spouse   \n",
       "1   44   Private  236746      Masters           14.0             Divorced   \n",
       "2   38   Private   96185      HS-grad            NaN             Divorced   \n",
       "\n",
       "         occupation    relationship    race      sex  capital-gain  \\\n",
       "0               NaN            Wife   White   Female             0   \n",
       "1   Exec-managerial   Not-in-family   White     Male         10520   \n",
       "2               NaN       Unmarried   Black   Female             0   \n",
       "\n",
       "   capital-loss  hours-per-week  native-country  >=50k  \n",
       "0          1902              40   United-States      1  \n",
       "1             0              45   United-States      1  \n",
       "2             0              32   United-States      0  "
      ]
     },
     "execution_count": 65,
     "metadata": {},
     "output_type": "execute_result"
    }
   ],
   "source": [
    "df.head(3)"
   ]
  },
  {
   "cell_type": "markdown",
   "metadata": {},
   "source": [
    "# Preprocessing"
   ]
  },
  {
   "cell_type": "markdown",
   "metadata": {},
   "source": [
    "## Define column types"
   ]
  },
  {
   "cell_type": "code",
   "execution_count": 66,
   "metadata": {},
   "outputs": [],
   "source": [
    "dep_var = '>=50k'\n",
    "num_vars = ['age', 'fnlwgt']#, 'education-num']\n",
    "cat_vars = ['workclass', 'education', 'marital-status', 'occupation', 'relationship', 'race']"
   ]
  },
  {
   "cell_type": "code",
   "execution_count": 67,
   "metadata": {},
   "outputs": [],
   "source": [
    "df = df.loc[:, num_vars+cat_vars+[dep_var]]"
   ]
  },
  {
   "cell_type": "code",
   "execution_count": 290,
   "metadata": {},
   "outputs": [
    {
     "data": {
      "text/plain": [
       "(32561, 9)"
      ]
     },
     "execution_count": 290,
     "metadata": {},
     "output_type": "execute_result"
    }
   ],
   "source": [
    "df.shape"
   ]
  },
  {
   "cell_type": "markdown",
   "metadata": {},
   "source": [
    "# One Cycle"
   ]
  },
  {
   "cell_type": "code",
   "execution_count": 306,
   "metadata": {},
   "outputs": [],
   "source": [
    "n_epochs=[5,10,20]"
   ]
  },
  {
   "cell_type": "code",
   "execution_count": 307,
   "metadata": {},
   "outputs": [],
   "source": [
    "config = list(itertools.product(n_epochs))"
   ]
  },
  {
   "cell_type": "code",
   "execution_count": 291,
   "metadata": {},
   "outputs": [],
   "source": [
    "procs = [FillMissing, Categorify, Normalize]"
   ]
  },
  {
   "cell_type": "code",
   "execution_count": 292,
   "metadata": {},
   "outputs": [],
   "source": [
    "src = TabularList.from_df(df, path=path, cat_names=cat_vars, cont_names=num_vars, procs=procs)"
   ]
  },
  {
   "cell_type": "code",
   "execution_count": 208,
   "metadata": {},
   "outputs": [],
   "source": [
    "kf = KFold(n_splits=5, random_state=42, shuffle=True)"
   ]
  },
  {
   "cell_type": "code",
   "execution_count": 309,
   "metadata": {},
   "outputs": [
    {
     "name": "stdout",
     "output_type": "stream",
     "text": [
      "Total time: 04:14\n",
      "epoch  train_loss  valid_loss  accuracy\n",
      "1      0.371316    0.368310    0.825092  (00:12)\n",
      "2      0.367992    0.359345    0.832156  (00:13)\n",
      "3      0.379161    0.354630    0.833231  (00:12)\n",
      "4      0.358474    0.351121    0.834459  (00:11)\n",
      "5      0.364463    0.356478    0.831849  (00:11)\n",
      "6      0.362110    0.376358    0.822635  (00:12)\n",
      "7      0.366525    0.345598    0.837684  (00:11)\n",
      "8      0.360481    0.346844    0.840909  (00:11)\n",
      "9      0.353393    0.349437    0.832310  (00:12)\n",
      "10     0.363678    0.345589    0.840141  (00:12)\n",
      "11     0.351734    0.344269    0.842138  (00:12)\n",
      "12     0.350031    0.346472    0.839988  (00:12)\n",
      "13     0.354928    0.352613    0.841063  (00:15)\n",
      "14     0.351242    0.349600    0.840448  (00:14)\n",
      "15     0.349087    0.343218    0.843827  (00:14)\n",
      "16     0.335967    0.345237    0.842752  (00:12)\n",
      "17     0.334057    0.343910    0.842445  (00:12)\n",
      "18     0.338846    0.345751    0.841677  (00:12)\n",
      "19     0.347028    0.344724    0.843213  (00:12)\n",
      "20     0.336335    0.344168    0.843520  (00:12)\n",
      "\n"
     ]
    }
   ],
   "source": [
    "all_results = []\n",
    "for j,param in enumerate(config):\n",
    "    print(param)\n",
    "    for i, (train_ids, valid_ids) in enumerate(kf.split(df)):\n",
    "        data = (src.split_by_idx(valid_ids)\n",
    "                .label_from_df(cols=dep_var)\n",
    "                .databunch())\n",
    "\n",
    "        learn = tabular_learner(data, layers=[256]*3, metrics=accuracy)\n",
    "        learn.fit_one_cycle(param[0], 1e-2)\n",
    "        results = pd.DataFrame({\n",
    "            'experiment': j+1,\n",
    "            'fold': i+1, 'epochs':np.arange(1, len(learn.recorder.metrics)+1),\n",
    "            'valid_loss': learn.recorder.val_losses,\n",
    "            'metrics': [np.array(val[0]) for val in learn.recorder.metrics]})\n",
    "        all_results.append(results)"
   ]
  },
  {
   "cell_type": "code",
   "execution_count": 310,
   "metadata": {},
   "outputs": [],
   "source": [
    "all_results = pd.concat(all_results)"
   ]
  },
  {
   "cell_type": "code",
   "execution_count": 334,
   "metadata": {},
   "outputs": [],
   "source": [
    "all_results.metrics = all_results.metrics.astype(np.float32)"
   ]
  },
  {
   "cell_type": "code",
   "execution_count": 339,
   "metadata": {},
   "outputs": [],
   "source": [
    "tmp = (all_results.groupby(['experiment', 'epochs']).agg({'metrics':['mean', 'std']}))"
   ]
  },
  {
   "cell_type": "code",
   "execution_count": 342,
   "metadata": {},
   "outputs": [],
   "source": [
    "tmp.columns = [':'.join(col).strip() for col in tmp.columns.values]"
   ]
  },
  {
   "cell_type": "code",
   "execution_count": 345,
   "metadata": {},
   "outputs": [
    {
     "data": {
      "image/png": "[encoded data removed]",
      "text/plain": [
       "<Figure size 720x432 with 1 Axes>"
      ]
     },
     "metadata": {
      "needs_background": "light"
     },
     "output_type": "display_data"
    }
   ],
   "source": [
    "fig, ax = plt.subplots(figsize=(10,6))\n",
    "# plt.ylim(0.3, 0.4)\n",
    "for _,exp in tmp.groupby('experiment'):\n",
    "    epochs = exp.reset_index().epochs\n",
    "    mu = exp.reset_index()['metrics:mean']\n",
    "    errors = exp.reset_index()['metrics:std']\n",
    "    ax.plot(epochs,mu)\n",
    "    ax.fill_between(epochs, mu-errors, mu+errors, alpha=0.2)"
   ]
  },
  {
   "cell_type": "code",
   "execution_count": null,
   "metadata": {},
   "outputs": [
    {
     "name": "stdout",
     "output_type": "stream",
     "text": [
      "[(5,), (10,), (20,)]\n"
     ]
    },
    {
     "data": {
      "text/html": [
       "\n",
       "    <div>\n",
       "        <style>\n",
       "        \t/* Turns off some styling */\n",
       "        \tprogress {\n",
       "\n",
       "            \t/* gets rid of default border in Firefox and Opera. */\n",
       "            \tborder: none;\n",
       "\n",
       "            \t/* Needs to be in here for Safari polyfill so background images work as expected. */\n",
       "            \tbackground-size: auto;\n",
       "            }\n",
       "\n",
       "            .progress-bar-interrupted, .progress-bar-interrupted::-webkit-progress-bar {\n",
       "                background: #F44336;\n",
       "            }\n",
       "        </style>\n",
       "      <progress value='4' class='' max='5', style='width:300px; height:20px; vertical-align: middle;'></progress>\n",
       "      80.00% [4/5 00:55<00:13]\n",
       "    </div>\n",
       "    \n",
       "<table style='width:300px; margin-bottom:10px'>\n",
       "  <tr>\n",
       "    <th>epoch</th>\n",
       "    <th>train_loss</th>\n",
       "    <th>valid_loss</th>\n",
       "    <th>accuracy</th>\n",
       "  </tr>\n",
       "  <tr>\n",
       "    <th>1</th>\n",
       "    <th>0.386080</th>\n",
       "    <th>0.367290</th>\n",
       "    <th>0.821281</th>\n",
       "  </tr>\n",
       "  <tr>\n",
       "    <th>2</th>\n",
       "    <th>0.369644</th>\n",
       "    <th>0.356294</th>\n",
       "    <th>0.834638</th>\n",
       "  </tr>\n",
       "  <tr>\n",
       "    <th>3</th>\n",
       "    <th>0.357398</th>\n",
       "    <th>0.352179</th>\n",
       "    <th>0.834792</th>\n",
       "  </tr>\n",
       "  <tr>\n",
       "    <th>4</th>\n",
       "    <th>0.361243</th>\n",
       "    <th>0.343058</th>\n",
       "    <th>0.841701</th>\n",
       "  </tr>\n",
       "  <tr>\n",
       "\n",
       "  </tr>\n",
       "</table>\n",
       "\n",
       "\n",
       "    <div>\n",
       "        <style>\n",
       "        \t/* Turns off some styling */\n",
       "        \tprogress {\n",
       "\n",
       "            \t/* gets rid of default border in Firefox and Opera. */\n",
       "            \tborder: none;\n",
       "\n",
       "            \t/* Needs to be in here for Safari polyfill so background images work as expected. */\n",
       "            \tbackground-size: auto;\n",
       "            }\n",
       "\n",
       "            .progress-bar-interrupted, .progress-bar-interrupted::-webkit-progress-bar {\n",
       "                background: #F44336;\n",
       "            }\n",
       "        </style>\n",
       "      <progress value='76' class='' max='407', style='width:300px; height:20px; vertical-align: middle;'></progress>\n",
       "      18.67% [76/407 00:02<00:11 0.3500]\n",
       "    </div>\n",
       "    "
      ],
      "text/plain": [
       "<IPython.core.display.HTML object>"
      ]
     },
     "metadata": {},
     "output_type": "display_data"
    }
   ],
   "source": [
    "for j,param in enumerate(config):\n",
    "    print(param)\n",
    "    for i, (train_ids, valid_ids) in enumerate(kf.split(df)):\n",
    "        data = (src.split_by_idx(valid_ids)\n",
    "                .label_from_df(cols=dep_var)\n",
    "                .databunch())\n",
    "\n",
    "        learn = tabular_learner(data, layers=[256]*3, metrics=accuracy)\n",
    "        learn.fit(param[0], 1e-2)\n",
    "        results = pd.DataFrame({\n",
    "            'experiment': j+1+len(config),\n",
    "            'fold': i+1, 'epochs':np.arange(1, len(learn.recorder.metrics)+1),\n",
    "            'valid_loss': learn.recorder.val_losses,\n",
    "            'metrics': [np.array(val[0]) for val in learn.recorder.metrics]})\n",
    "        all_results.append(results)"
   ]
  },
  {
   "cell_type": "code",
   "execution_count": 203,
   "metadata": {},
   "outputs": [],
   "source": [
    "all_results.to_csv('layer_number_size_epoch3.csv', index=None)"
   ]
  },
  {
   "cell_type": "markdown",
   "metadata": {},
   "source": [
    "# Number and Size of Layers"
   ]
  },
  {
   "cell_type": "code",
   "execution_count": 204,
   "metadata": {},
   "outputs": [],
   "source": [
    "layer_sizes=[32,64,128,256,512,1024,2048]\n",
    "layer_number=[1,2,4,8]"
   ]
  },
  {
   "cell_type": "code",
   "execution_count": 205,
   "metadata": {},
   "outputs": [],
   "source": [
    "config = list(itertools.product(layer_sizes, layer_number))"
   ]
  },
  {
   "cell_type": "code",
   "execution_count": 206,
   "metadata": {},
   "outputs": [],
   "source": [
    "procs = [FillMissing, Categorify, Normalize]"
   ]
  },
  {
   "cell_type": "code",
   "execution_count": 207,
   "metadata": {},
   "outputs": [],
   "source": [
    "src = TabularList.from_df(df, path=path, cat_names=cat_vars, cont_names=num_vars, procs=procs)"
   ]
  },
  {
   "cell_type": "code",
   "execution_count": 208,
   "metadata": {},
   "outputs": [],
   "source": [
    "kf = KFold(n_splits=5, random_state=42, shuffle=True)"
   ]
  },
  {
   "cell_type": "code",
   "execution_count": 200,
   "metadata": {},
   "outputs": [
    {
     "name": "stdout",
     "output_type": "stream",
     "text": [
      "Total time: 14:49\n",
      "epoch  train_loss  valid_loss  accuracy\n",
      "1      0.396025    0.368104    0.834613  (04:56)\n",
      "2      0.361245    0.360065    0.838759  (04:54)\n",
      "3      0.350522    0.348898    0.841523  (04:58)\n",
      "\n"
     ]
    }
   ],
   "source": [
    "all_results = []\n",
    "for j,param in enumerate(config):\n",
    "    print(config)\n",
    "    for i, (train_ids, valid_ids) in enumerate(kf.split(df)):\n",
    "        data = (src.split_by_idx(valid_ids)\n",
    "                .label_from_df(cols=dep_var)\n",
    "                .databunch())\n",
    "\n",
    "        learn = tabular_learner(data, layers=[param[0]]*param[1], metrics=accuracy)\n",
    "        learn.fit_one_cycle(3, 1e-2)\n",
    "        results = pd.DataFrame({\n",
    "            'experiment': j+1,\n",
    "            'fold': i+1, 'epochs':np.arange(1, len(learn.recorder.metrics)+1),\n",
    "            'valid_loss': learn.recorder.val_losses,\n",
    "            'metrics': [np.array(val[0]) for val in learn.recorder.metrics]})\n",
    "        all_results.append(results)"
   ]
  },
  {
   "cell_type": "code",
   "execution_count": null,
   "metadata": {},
   "outputs": [],
   "source": [
    "all_results = pd.concat(all_results)"
   ]
  },
  {
   "cell_type": "code",
   "execution_count": 203,
   "metadata": {},
   "outputs": [],
   "source": [
    "all_results.to_csv('layer_number_size_epoch3.csv', index=None)"
   ]
  },
  {
   "cell_type": "code",
   "execution_count": 210,
   "metadata": {},
   "outputs": [],
   "source": [
    "all_results = pd.read_csv('layer_number_size_epoch3.csv')"
   ]
  },
  {
   "cell_type": "code",
   "execution_count": 216,
   "metadata": {},
   "outputs": [],
   "source": [
    "last_epoch_results = all_results.groupby(['experiment', 'fold']).tail(1)"
   ]
  },
  {
   "cell_type": "code",
   "execution_count": 219,
   "metadata": {},
   "outputs": [],
   "source": [
    "avg_results = last_epoch_results.groupby('experiment').agg({'valid_loss': ['mean','std'],\n",
    "                                              'metrics': ['mean','std']})"
   ]
  },
  {
   "cell_type": "code",
   "execution_count": 228,
   "metadata": {},
   "outputs": [],
   "source": [
    "avg_results.columns = [':'.join(col).strip() for col in avg_results.columns.values]"
   ]
  },
  {
   "cell_type": "code",
   "execution_count": 232,
   "metadata": {},
   "outputs": [],
   "source": [
    "avg_results.reset_index(inplace=True)"
   ]
  },
  {
   "cell_type": "code",
   "execution_count": 234,
   "metadata": {},
   "outputs": [],
   "source": [
    "avg_results = avg_results.join(pd.DataFrame(config, columns=['size', 'number']))"
   ]
  },
  {
   "cell_type": "code",
   "execution_count": 235,
   "metadata": {},
   "outputs": [
    {
     "data": {
      "text/html": [
       "<div>\n",
       "<style scoped>\n",
       "    .dataframe tbody tr th:only-of-type {\n",
       "        vertical-align: middle;\n",
       "    }\n",
       "\n",
       "    .dataframe tbody tr th {\n",
       "        vertical-align: top;\n",
       "    }\n",
       "\n",
       "    .dataframe thead th {\n",
       "        text-align: right;\n",
       "    }\n",
       "</style>\n",
       "<table border=\"1\" class=\"dataframe\">\n",
       "  <thead>\n",
       "    <tr style=\"text-align: right;\">\n",
       "      <th></th>\n",
       "      <th>experiment</th>\n",
       "      <th>valid_loss:mean</th>\n",
       "      <th>valid_loss:std</th>\n",
       "      <th>metrics:mean</th>\n",
       "      <th>metrics:std</th>\n",
       "      <th>size</th>\n",
       "      <th>number</th>\n",
       "    </tr>\n",
       "  </thead>\n",
       "  <tbody>\n",
       "    <tr>\n",
       "      <th>0</th>\n",
       "      <td>1</td>\n",
       "      <td>0.349793</td>\n",
       "      <td>0.005268</td>\n",
       "      <td>0.837935</td>\n",
       "      <td>0.002223</td>\n",
       "      <td>32</td>\n",
       "      <td>1</td>\n",
       "    </tr>\n",
       "    <tr>\n",
       "      <th>1</th>\n",
       "      <td>2</td>\n",
       "      <td>0.349517</td>\n",
       "      <td>0.005723</td>\n",
       "      <td>0.836952</td>\n",
       "      <td>0.003160</td>\n",
       "      <td>32</td>\n",
       "      <td>2</td>\n",
       "    </tr>\n",
       "    <tr>\n",
       "      <th>2</th>\n",
       "      <td>3</td>\n",
       "      <td>0.349417</td>\n",
       "      <td>0.005096</td>\n",
       "      <td>0.838273</td>\n",
       "      <td>0.002953</td>\n",
       "      <td>32</td>\n",
       "      <td>4</td>\n",
       "    </tr>\n",
       "    <tr>\n",
       "      <th>3</th>\n",
       "      <td>4</td>\n",
       "      <td>0.351206</td>\n",
       "      <td>0.004572</td>\n",
       "      <td>0.837382</td>\n",
       "      <td>0.003261</td>\n",
       "      <td>32</td>\n",
       "      <td>8</td>\n",
       "    </tr>\n",
       "    <tr>\n",
       "      <th>4</th>\n",
       "      <td>5</td>\n",
       "      <td>0.349468</td>\n",
       "      <td>0.005164</td>\n",
       "      <td>0.838580</td>\n",
       "      <td>0.002497</td>\n",
       "      <td>64</td>\n",
       "      <td>1</td>\n",
       "    </tr>\n",
       "  </tbody>\n",
       "</table>\n",
       "</div>"
      ],
      "text/plain": [
       "   experiment  valid_loss:mean  valid_loss:std  metrics:mean  metrics:std  \\\n",
       "0           1         0.349793        0.005268      0.837935     0.002223   \n",
       "1           2         0.349517        0.005723      0.836952     0.003160   \n",
       "2           3         0.349417        0.005096      0.838273     0.002953   \n",
       "3           4         0.351206        0.004572      0.837382     0.003261   \n",
       "4           5         0.349468        0.005164      0.838580     0.002497   \n",
       "\n",
       "   size  number  \n",
       "0    32       1  \n",
       "1    32       2  \n",
       "2    32       4  \n",
       "3    32       8  \n",
       "4    64       1  "
      ]
     },
     "execution_count": 235,
     "metadata": {},
     "output_type": "execute_result"
    }
   ],
   "source": [
    "avg_results.head(5)"
   ]
  },
  {
   "cell_type": "code",
   "execution_count": 243,
   "metadata": {},
   "outputs": [],
   "source": [
    "plot_df = avg_results.pivot_table(index='size', columns='number', values='metrics:mean')"
   ]
  },
  {
   "cell_type": "code",
   "execution_count": 246,
   "metadata": {},
   "outputs": [],
   "source": [
    "errors = avg_results.pivot_table(index='size', columns='number', values='metrics:std')"
   ]
  },
  {
   "cell_type": "code",
   "execution_count": 253,
   "metadata": {},
   "outputs": [
    {
     "data": {
      "text/plain": [
       "<matplotlib.axes._subplots.AxesSubplot at 0x1a317f74a8>"
      ]
     },
     "execution_count": 253,
     "metadata": {},
     "output_type": "execute_result"
    },
    {
     "data": {
      "image/png": "[encoded data removed]",
      "text/plain": [
       "<Figure size 1080x360 with 1 Axes>"
      ]
     },
     "metadata": {
      "needs_background": "light"
     },
     "output_type": "display_data"
    }
   ],
   "source": [
    "plot_df.plot(yerr=errors, figsize=(15,5))\n",
    "# plt.fill_between(plot_df.index, plot_df+errors, plot_df-errors)\n",
    "# plt.ylim(0.34,0.36)"
   ]
  },
  {
   "cell_type": "code",
   "execution_count": 257,
   "metadata": {},
   "outputs": [],
   "source": [
    "import seaborn as sns"
   ]
  },
  {
   "cell_type": "code",
   "execution_count": 270,
   "metadata": {},
   "outputs": [
    {
     "data": {
      "text/plain": [
       "array([  32,   64,  128,  256,  512, 1024, 2048])"
      ]
     },
     "execution_count": 270,
     "metadata": {},
     "output_type": "execute_result"
    }
   ],
   "source": [
    "plot_df.index.values"
   ]
  },
  {
   "cell_type": "code",
   "execution_count": 274,
   "metadata": {},
   "outputs": [
    {
     "data": {
      "text/plain": [
       "<matplotlib.legend.Legend at 0x1a2c909748>"
      ]
     },
     "execution_count": 274,
     "metadata": {},
     "output_type": "execute_result"
    },
    {
     "data": {
      "image/png": "[encoded data removed]",
      "text/plain": [
       "<Figure size 1080x360 with 1 Axes>"
      ]
     },
     "metadata": {
      "needs_background": "light"
     },
     "output_type": "display_data"
    }
   ],
   "source": [
    "fig, ax = plt.subplots(figsize=(15,5))\n",
    "ax.set_xlabel('Size')\n",
    "ax.set_ylabel('Accuracy')\n",
    "clrs = sns.color_palette(\"husl\", plot_df.shape[1])\n",
    "for i in range(plot_df.shape[1]):\n",
    "    mu = plot_df.iloc[:,i]\n",
    "    sig = errors.iloc[:,i]\n",
    "    ax.plot(mu, label=plot_df.columns[i])\n",
    "    ax.fill_between(plot_df.index.values, mu-sig, mu+sig, alpha=0.2)\n",
    "ax.legend(title='Number')"
   ]
  },
  {
   "cell_type": "markdown",
   "metadata": {},
   "source": [
    "# Dropout"
   ]
  },
  {
   "cell_type": "code",
   "execution_count": 284,
   "metadata": {},
   "outputs": [],
   "source": [
    "layer_sizes=[128,512]\n",
    "dropout = np.arange(0, 0.99, 0.1)"
   ]
  },
  {
   "cell_type": "code",
   "execution_count": 285,
   "metadata": {},
   "outputs": [],
   "source": [
    "config = list(itertools.product(layer_sizes, dropout))"
   ]
  },
  {
   "cell_type": "code",
   "execution_count": 286,
   "metadata": {},
   "outputs": [],
   "source": [
    "procs = [FillMissing, Categorify, Normalize]"
   ]
  },
  {
   "cell_type": "code",
   "execution_count": 287,
   "metadata": {},
   "outputs": [],
   "source": [
    "src = TabularList.from_df(df, path=path, cat_names=cat_vars, cont_names=num_vars, procs=procs)"
   ]
  },
  {
   "cell_type": "code",
   "execution_count": 288,
   "metadata": {},
   "outputs": [],
   "source": [
    "kf = KFold(n_splits=5, random_state=42, shuffle=True)"
   ]
  },
  {
   "cell_type": "code",
   "execution_count": null,
   "metadata": {},
   "outputs": [],
   "source": [
    "all_results = []\n",
    "for j,param in enumerate(config):\n",
    "    print(param)\n",
    "    for i, (train_ids, valid_ids) in enumerate(kf.split(df)):\n",
    "        data = (src.split_by_idx(valid_ids)\n",
    "                .label_from_df(cols=dep_var)\n",
    "                .databunch())\n",
    "\n",
    "        learn = tabular_learner(data, layers=[param[0]]*2, ps=[param[1]]*2, metrics=accuracy)\n",
    "        learn.fit_one_cycle(5, 1e-2)\n",
    "        results = pd.DataFrame({\n",
    "            'experiment': j+1,\n",
    "            'fold': i+1, 'epochs':np.arange(1, len(learn.recorder.metrics)+1),\n",
    "            'valid_loss': learn.recorder.val_losses,\n",
    "            'metrics': [np.array(val[0]) for val in learn.recorder.metrics]})\n",
    "        all_results.append(results)"
   ]
  },
  {
   "cell_type": "code",
   "execution_count": null,
   "metadata": {},
   "outputs": [],
   "source": [
    "all_results = pd.concat(all_results)"
   ]
  },
  {
   "cell_type": "code",
   "execution_count": 203,
   "metadata": {},
   "outputs": [],
   "source": [
    "all_results.to_csv('layer_number_dropout_epoch3.csv', index=None)"
   ]
  },
  {
   "cell_type": "markdown",
   "metadata": {},
   "source": [
    "# Embedding Sizes"
   ]
  },
  {
   "cell_type": "markdown",
   "metadata": {},
   "source": [
    "# Feature Scalings"
   ]
  },
  {
   "cell_type": "markdown",
   "metadata": {},
   "source": [
    "# Sample Size"
   ]
  },
  {
   "cell_type": "code",
   "execution_count": 349,
   "metadata": {},
   "outputs": [],
   "source": [
    "sample_sizes = [1000,2000,4000,8000,16000,32000]"
   ]
  },
  {
   "cell_type": "code",
   "execution_count": 350,
   "metadata": {},
   "outputs": [],
   "source": [
    "config = list(itertools.product(sample_sizes))"
   ]
  },
  {
   "cell_type": "code",
   "execution_count": 351,
   "metadata": {},
   "outputs": [],
   "source": [
    "procs = [FillMissing, Categorify, Normalize]"
   ]
  },
  {
   "cell_type": "code",
   "execution_count": 352,
   "metadata": {},
   "outputs": [],
   "source": [
    "kf = KFold(n_splits=5, random_state=42, shuffle=True)"
   ]
  },
  {
   "cell_type": "code",
   "execution_count": 357,
   "metadata": {},
   "outputs": [
    {
     "name": "stdout",
     "output_type": "stream",
     "text": [
      "Total time: 00:49\n",
      "epoch  train_loss  valid_loss  accuracy\n",
      "1      0.367863    0.386474    0.833281  (00:10)\n",
      "2      0.374710    0.372234    0.830156  (00:09)\n",
      "3      0.361934    0.366826    0.832656  (00:10)\n",
      "4      0.347930    0.360920    0.833750  (00:09)\n",
      "5      0.339000    0.359601    0.833125  (00:09)\n",
      "\n"
     ]
    }
   ],
   "source": [
    "all_results = []\n",
    "for j,param in enumerate(config):\n",
    "    print(param)\n",
    "    df_sub = df.sample(param[0], random_state=42).copy().reset_index(drop=True)\n",
    "    src = TabularList.from_df(df_sub, path=path, cat_names=cat_vars, cont_names=num_vars, procs=procs)\n",
    "    for i, (train_ids, valid_ids) in enumerate(kf.split(df_sub)):\n",
    "        data = (src.split_by_idx(valid_ids)\n",
    "                .label_from_df(cols=dep_var)\n",
    "                .databunch())\n",
    "        learn = tabular_learner(data, layers=[256]*2, metrics=accuracy)\n",
    "        learn.fit_one_cycle(5, 1e-2)\n",
    "        results = pd.DataFrame({\n",
    "            'experiment': j+1,\n",
    "            'fold': i+1, 'epochs':np.arange(1, len(learn.recorder.metrics)+1),\n",
    "            'valid_loss': learn.recorder.val_losses,\n",
    "            'metrics': [np.array(val[0]) for val in learn.recorder.metrics]})\n",
    "        all_results.append(results)"
   ]
  },
  {
   "cell_type": "code",
   "execution_count": 358,
   "metadata": {},
   "outputs": [],
   "source": [
    "all_results = pd.concat(all_results)"
   ]
  },
  {
   "cell_type": "code",
   "execution_count": 375,
   "metadata": {},
   "outputs": [],
   "source": [
    "tmp = all_results.groupby(['experiment', 'epochs']).agg({'valid_loss':['mean', 'std']})\n",
    "tmp.columns = [':'.join(col).strip() for col in tmp.columns.values]\n",
    "tmp.reset_index(inplace=True)\n",
    "mean_df = tmp.pivot(index='epochs', columns='experiment', values='valid_loss:mean')\n",
    "sig_df = tmp.pivot(index='epochs', columns='experiment', values='valid_loss:std')"
   ]
  },
  {
   "cell_type": "code",
   "execution_count": 379,
   "metadata": {},
   "outputs": [
    {
     "data": {
      "image/png": "[encoded data removed]",
      "text/plain": [
       "<Figure size 720x432 with 1 Axes>"
      ]
     },
     "metadata": {
      "needs_background": "light"
     },
     "output_type": "display_data"
    }
   ],
   "source": [
    "fig, ax = plt.subplots(figsize=(10,6))\n",
    "# plt.ylim(0.34,0.36)\n",
    "for i in range(mean_df.shape[1]):\n",
    "    mu = mean_df.iloc[:,i]\n",
    "    sig = sig_df.iloc[:,i]\n",
    "    epochs = mean_df.index.values\n",
    "    ax.plot(epochs, mu)\n",
    "    ax.fill_between(epochs, mu-sig, mu+sig, alpha=0.2)"
   ]
  },
  {
   "cell_type": "code",
   "execution_count": null,
   "metadata": {},
   "outputs": [],
   "source": []
  },
  {
   "cell_type": "code",
   "execution_count": 203,
   "metadata": {},
   "outputs": [],
   "source": [
    "all_results.to_csv('layer_number_dropout_epoch3.csv', index=None)"
   ]
  },
  {
   "cell_type": "code",
   "execution_count": null,
   "metadata": {},
   "outputs": [],
   "source": []
  },
  {
   "cell_type": "markdown",
   "metadata": {},
   "source": [
    "# Architecture Shape"
   ]
  },
  {
   "cell_type": "markdown",
   "metadata": {},
   "source": [
    "# SeLU"
   ]
  },
  {
   "cell_type": "code",
   "execution_count": null,
   "metadata": {},
   "outputs": [],
   "source": [
    "nn.SELU()"
   ]
  },
  {
   "cell_type": "markdown",
   "metadata": {},
   "source": [
    "# Residual Connections"
   ]
  },
  {
   "cell_type": "code",
   "execution_count": null,
   "metadata": {},
   "outputs": [],
   "source": [
    "def forward(self, x):\n",
    "    residual = x\n",
    "    x = self.layer(x)\n",
    "    x += residual\n",
    "    return x"
   ]
  },
  {
   "cell_type": "markdown",
   "metadata": {},
   "source": [
    "# Attention"
   ]
  },
  {
   "cell_type": "code",
   "execution_count": null,
   "metadata": {},
   "outputs": [],
   "source": [
    "def clones(module, N):\n",
    "    \"Produce N identical layers.\"\n",
    "    return nn.ModuleList([copy.deepcopy(module) for _ in range(N)])\n",
    "\n",
    "def subsequent_mask(size):\n",
    "    \"Mask out subsequent positions.\"\n",
    "    attn_shape = (1, size, size)\n",
    "    subsequent_mask = np.triu(np.ones(attn_shape), k=1).astype('uint8')\n",
    "    return torch.from_numpy(subsequent_mask) == 0\n",
    "\n",
    "def attention(query, key, value, mask=None, dropout=None):\n",
    "    \"Compute 'Scaled Dot Product Attention'\"\n",
    "    d_k = query.size(-1)\n",
    "    scores = torch.matmul(query, key.transpose(-2, -1)) \\\n",
    "             / math.sqrt(d_k)\n",
    "    if mask is not None:\n",
    "        scores = scores.masked_fill(mask == 0, -1e9)\n",
    "    p_attn = F.softmax(scores, dim = -1)\n",
    "    if dropout is not None:\n",
    "        p_attn = dropout(p_attn)\n",
    "    return torch.matmul(p_attn, value), p_attn\n",
    "\n",
    "class MultiHeadedAttention(nn.Module):\n",
    "    def __init__(self, h, d_model, dropout=0.1):\n",
    "        \"Take in model size and number of heads.\"\n",
    "        super(MultiHeadedAttention, self).__init__()\n",
    "        assert d_model % h == 0\n",
    "        # We assume d_v always equals d_k\n",
    "        self.d_k = d_model // h\n",
    "        self.h = h\n",
    "        self.linears = clones(nn.Linear(d_model, d_model), 4)\n",
    "        self.attn = None\n",
    "        self.dropout = nn.Dropout(p=dropout)\n",
    "        \n",
    "    def forward(self, query, key, value, mask=None):\n",
    "        \"Implements Figure 2\"\n",
    "        if mask is not None:\n",
    "            # Same mask applied to all h heads.\n",
    "            mask = mask.unsqueeze(1)\n",
    "        nbatches = query.size(0)\n",
    "        \n",
    "        # 1) Do all the linear projections in batch from d_model => h x d_k \n",
    "        query, key, value = \\\n",
    "            [l(x).view(nbatches, -1, self.h, self.d_k).transpose(1, 2)\n",
    "             for l, x in zip(self.linears, (query, key, value))]\n",
    "        \n",
    "        # 2) Apply attention on all the projected vectors in batch. \n",
    "        x, self.attn = attention(query, key, value, mask=mask, \n",
    "                                 dropout=self.dropout)\n",
    "        \n",
    "        # 3) \"Concat\" using a view and apply a final linear. \n",
    "        x = x.transpose(1, 2).contiguous() \\\n",
    "             .view(nbatches, -1, self.h * self.d_k)\n",
    "        return self.linears[-1](x)"
   ]
  },
  {
   "cell_type": "markdown",
   "metadata": {},
   "source": [
    "# Augmentation Strategies"
   ]
  },
  {
   "cell_type": "markdown",
   "metadata": {},
   "source": [
    "# Pretraining"
   ]
  },
  {
   "cell_type": "markdown",
   "metadata": {},
   "source": [
    "## Process categoricals"
   ]
  },
  {
   "cell_type": "markdown",
   "metadata": {},
   "source": [
    "**Note**: missing values are not yet treated"
   ]
  },
  {
   "cell_type": "code",
   "execution_count": 12,
   "metadata": {},
   "outputs": [],
   "source": [
    "categories={}\n",
    "for col in cat_vars:\n",
    "    train_df.loc[:, col] = train_df.loc[:, col].astype('category').cat.as_ordered()\n",
    "    categories.update({col:train_df.loc[:, col].cat.categories.values})\n",
    "    test_df.loc[:, col] = pd.Categorical(test_df.loc[:, col], categories=categories[col], ordered=True)"
   ]
  },
  {
   "cell_type": "markdown",
   "metadata": {},
   "source": [
    "still need to choose how to represent them, either one-hot or integer encoded"
   ]
  },
  {
   "cell_type": "markdown",
   "metadata": {},
   "source": [
    "One-hot encode"
   ]
  },
  {
   "cell_type": "code",
   "execution_count": 13,
   "metadata": {},
   "outputs": [],
   "source": [
    "for col in cat_vars:\n",
    "    train_df = train_df.drop(columns=col).join(pd.get_dummies(train_df.loc[:,col], prefix=col))\n",
    "    test_df = test_df.drop(columns=col).join(pd.get_dummies(test_df.loc[:,col], prefix=col))"
   ]
  },
  {
   "cell_type": "code",
   "execution_count": 14,
   "metadata": {},
   "outputs": [
    {
     "data": {
      "text/html": [
       "<div>\n",
       "<style scoped>\n",
       "    .dataframe tbody tr th:only-of-type {\n",
       "        vertical-align: middle;\n",
       "    }\n",
       "\n",
       "    .dataframe tbody tr th {\n",
       "        vertical-align: top;\n",
       "    }\n",
       "\n",
       "    .dataframe thead th {\n",
       "        text-align: right;\n",
       "    }\n",
       "</style>\n",
       "<table border=\"1\" class=\"dataframe\">\n",
       "  <thead>\n",
       "    <tr style=\"text-align: right;\">\n",
       "      <th></th>\n",
       "      <th>age</th>\n",
       "      <th>fnlwgt</th>\n",
       "      <th>&gt;=50k</th>\n",
       "      <th>workclass_ ?</th>\n",
       "      <th>workclass_ Federal-gov</th>\n",
       "      <th>workclass_ Local-gov</th>\n",
       "      <th>workclass_ Never-worked</th>\n",
       "      <th>workclass_ Private</th>\n",
       "      <th>workclass_ Self-emp-inc</th>\n",
       "      <th>workclass_ Self-emp-not-inc</th>\n",
       "      <th>...</th>\n",
       "      <th>relationship_ Not-in-family</th>\n",
       "      <th>relationship_ Other-relative</th>\n",
       "      <th>relationship_ Own-child</th>\n",
       "      <th>relationship_ Unmarried</th>\n",
       "      <th>relationship_ Wife</th>\n",
       "      <th>race_ Amer-Indian-Eskimo</th>\n",
       "      <th>race_ Asian-Pac-Islander</th>\n",
       "      <th>race_ Black</th>\n",
       "      <th>race_ Other</th>\n",
       "      <th>race_ White</th>\n",
       "    </tr>\n",
       "  </thead>\n",
       "  <tbody>\n",
       "    <tr>\n",
       "      <th>0</th>\n",
       "      <td>45</td>\n",
       "      <td>167523</td>\n",
       "      <td>0</td>\n",
       "      <td>0</td>\n",
       "      <td>0</td>\n",
       "      <td>0</td>\n",
       "      <td>0</td>\n",
       "      <td>1</td>\n",
       "      <td>0</td>\n",
       "      <td>0</td>\n",
       "      <td>...</td>\n",
       "      <td>0</td>\n",
       "      <td>0</td>\n",
       "      <td>0</td>\n",
       "      <td>0</td>\n",
       "      <td>0</td>\n",
       "      <td>0</td>\n",
       "      <td>0</td>\n",
       "      <td>0</td>\n",
       "      <td>0</td>\n",
       "      <td>1</td>\n",
       "    </tr>\n",
       "    <tr>\n",
       "      <th>1</th>\n",
       "      <td>44</td>\n",
       "      <td>126199</td>\n",
       "      <td>0</td>\n",
       "      <td>0</td>\n",
       "      <td>0</td>\n",
       "      <td>0</td>\n",
       "      <td>0</td>\n",
       "      <td>1</td>\n",
       "      <td>0</td>\n",
       "      <td>0</td>\n",
       "      <td>...</td>\n",
       "      <td>0</td>\n",
       "      <td>0</td>\n",
       "      <td>0</td>\n",
       "      <td>1</td>\n",
       "      <td>0</td>\n",
       "      <td>0</td>\n",
       "      <td>0</td>\n",
       "      <td>0</td>\n",
       "      <td>0</td>\n",
       "      <td>1</td>\n",
       "    </tr>\n",
       "    <tr>\n",
       "      <th>2</th>\n",
       "      <td>55</td>\n",
       "      <td>37438</td>\n",
       "      <td>1</td>\n",
       "      <td>0</td>\n",
       "      <td>0</td>\n",
       "      <td>0</td>\n",
       "      <td>0</td>\n",
       "      <td>1</td>\n",
       "      <td>0</td>\n",
       "      <td>0</td>\n",
       "      <td>...</td>\n",
       "      <td>0</td>\n",
       "      <td>0</td>\n",
       "      <td>0</td>\n",
       "      <td>0</td>\n",
       "      <td>0</td>\n",
       "      <td>0</td>\n",
       "      <td>0</td>\n",
       "      <td>0</td>\n",
       "      <td>0</td>\n",
       "      <td>1</td>\n",
       "    </tr>\n",
       "    <tr>\n",
       "      <th>3</th>\n",
       "      <td>34</td>\n",
       "      <td>143766</td>\n",
       "      <td>0</td>\n",
       "      <td>0</td>\n",
       "      <td>1</td>\n",
       "      <td>0</td>\n",
       "      <td>0</td>\n",
       "      <td>0</td>\n",
       "      <td>0</td>\n",
       "      <td>0</td>\n",
       "      <td>...</td>\n",
       "      <td>1</td>\n",
       "      <td>0</td>\n",
       "      <td>0</td>\n",
       "      <td>0</td>\n",
       "      <td>0</td>\n",
       "      <td>0</td>\n",
       "      <td>0</td>\n",
       "      <td>0</td>\n",
       "      <td>0</td>\n",
       "      <td>1</td>\n",
       "    </tr>\n",
       "    <tr>\n",
       "      <th>4</th>\n",
       "      <td>46</td>\n",
       "      <td>167159</td>\n",
       "      <td>1</td>\n",
       "      <td>0</td>\n",
       "      <td>0</td>\n",
       "      <td>1</td>\n",
       "      <td>0</td>\n",
       "      <td>0</td>\n",
       "      <td>0</td>\n",
       "      <td>0</td>\n",
       "      <td>...</td>\n",
       "      <td>0</td>\n",
       "      <td>0</td>\n",
       "      <td>0</td>\n",
       "      <td>0</td>\n",
       "      <td>0</td>\n",
       "      <td>0</td>\n",
       "      <td>0</td>\n",
       "      <td>0</td>\n",
       "      <td>0</td>\n",
       "      <td>1</td>\n",
       "    </tr>\n",
       "  </tbody>\n",
       "</table>\n",
       "<p>5 rows × 61 columns</p>\n",
       "</div>"
      ],
      "text/plain": [
       "   age  fnlwgt  >=50k  workclass_ ?  workclass_ Federal-gov  \\\n",
       "0   45  167523      0             0                       0   \n",
       "1   44  126199      0             0                       0   \n",
       "2   55   37438      1             0                       0   \n",
       "3   34  143766      0             0                       1   \n",
       "4   46  167159      1             0                       0   \n",
       "\n",
       "   workclass_ Local-gov  workclass_ Never-worked  workclass_ Private  \\\n",
       "0                     0                        0                   1   \n",
       "1                     0                        0                   1   \n",
       "2                     0                        0                   1   \n",
       "3                     0                        0                   0   \n",
       "4                     1                        0                   0   \n",
       "\n",
       "   workclass_ Self-emp-inc  workclass_ Self-emp-not-inc     ...       \\\n",
       "0                        0                            0     ...        \n",
       "1                        0                            0     ...        \n",
       "2                        0                            0     ...        \n",
       "3                        0                            0     ...        \n",
       "4                        0                            0     ...        \n",
       "\n",
       "   relationship_ Not-in-family  relationship_ Other-relative  \\\n",
       "0                            0                             0   \n",
       "1                            0                             0   \n",
       "2                            0                             0   \n",
       "3                            1                             0   \n",
       "4                            0                             0   \n",
       "\n",
       "   relationship_ Own-child  relationship_ Unmarried  relationship_ Wife  \\\n",
       "0                        0                        0                   0   \n",
       "1                        0                        1                   0   \n",
       "2                        0                        0                   0   \n",
       "3                        0                        0                   0   \n",
       "4                        0                        0                   0   \n",
       "\n",
       "   race_ Amer-Indian-Eskimo  race_ Asian-Pac-Islander  race_ Black  \\\n",
       "0                         0                         0            0   \n",
       "1                         0                         0            0   \n",
       "2                         0                         0            0   \n",
       "3                         0                         0            0   \n",
       "4                         0                         0            0   \n",
       "\n",
       "   race_ Other  race_ White  \n",
       "0            0            1  \n",
       "1            0            1  \n",
       "2            0            1  \n",
       "3            0            1  \n",
       "4            0            1  \n",
       "\n",
       "[5 rows x 61 columns]"
      ]
     },
     "execution_count": 14,
     "metadata": {},
     "output_type": "execute_result"
    }
   ],
   "source": [
    "train_df.head()"
   ]
  },
  {
   "cell_type": "markdown",
   "metadata": {},
   "source": [
    "## Process numerics"
   ]
  },
  {
   "cell_type": "code",
   "execution_count": 15,
   "metadata": {},
   "outputs": [],
   "source": [
    "for col in num_vars:\n",
    "    train_df.loc[:, col] = train_df[col].astype(np.float32)\n",
    "    test_df.loc[:, col] = test_df[col].astype(np.float32)"
   ]
  },
  {
   "cell_type": "markdown",
   "metadata": {},
   "source": [
    "### Choose normalisation"
   ]
  },
  {
   "cell_type": "markdown",
   "metadata": {},
   "source": [
    "Standard 0 mean and unit variance scaling"
   ]
  },
  {
   "cell_type": "code",
   "execution_count": 16,
   "metadata": {},
   "outputs": [],
   "source": [
    "stats={}\n",
    "for col in num_vars:\n",
    "    stats.update({col: np.array([train_df[col].mean(), train_df[col].std()])})\n",
    "    train_df.loc[:,col] = (train_df[col]-stats[col][0])/stats[col][1]\n",
    "    test_df.loc[:,col] = (test_df[col]-stats[col][0])/stats[col][1]"
   ]
  },
  {
   "cell_type": "code",
   "execution_count": 17,
   "metadata": {},
   "outputs": [
    {
     "data": {
      "text/plain": [
       "{'age': array([38.588524, 13.686339]),\n",
       " 'fnlwgt': array([189604.40625 , 104962.476562])}"
      ]
     },
     "execution_count": 17,
     "metadata": {},
     "output_type": "execute_result"
    }
   ],
   "source": [
    "stats"
   ]
  },
  {
   "cell_type": "markdown",
   "metadata": {},
   "source": [
    "## Dataset"
   ]
  },
  {
   "cell_type": "code",
   "execution_count": 18,
   "metadata": {},
   "outputs": [],
   "source": [
    "class TabularDataset(Dataset):\n",
    "    def __init__(self, df, dep_var):\n",
    "        self.x = df.drop(columns=dep_var).values\n",
    "        self.y = df[dep_var].values\n",
    "    \n",
    "    def __len__(self):\n",
    "        return len(self.x)\n",
    "    \n",
    "    def __getitem__(self, idx):\n",
    "        x = self.get_x(idx)\n",
    "        y = self.get_x(idx)\n",
    "        return (x, y)\n",
    "    \n",
    "    def get_x(self, idx):\n",
    "        return torch.tensor(self.x[idx,:], dtype=torch.float32)\n",
    "    \n",
    "    def get_y(self, idx):\n",
    "        return torch.tensor(self.y[idx], dtype=torch.int64)"
   ]
  },
  {
   "cell_type": "code",
   "execution_count": 19,
   "metadata": {},
   "outputs": [],
   "source": [
    "train_ds = TabularDataset(train_df, dep_var)\n",
    "test_ds = TabularDataset(test_df, dep_var)"
   ]
  },
  {
   "cell_type": "markdown",
   "metadata": {},
   "source": [
    "## Data loader"
   ]
  },
  {
   "cell_type": "code",
   "execution_count": 20,
   "metadata": {},
   "outputs": [],
   "source": [
    "bs=64"
   ]
  },
  {
   "cell_type": "code",
   "execution_count": 21,
   "metadata": {},
   "outputs": [],
   "source": [
    "train_dl = DataLoader(train_ds, batch_size=bs)\n",
    "test_dl = DataLoader(test_ds, batch_size=bs)"
   ]
  },
  {
   "cell_type": "code",
   "execution_count": 22,
   "metadata": {},
   "outputs": [],
   "source": [
    "x, y = next(iter(train_dl))"
   ]
  },
  {
   "cell_type": "code",
   "execution_count": 24,
   "metadata": {},
   "outputs": [
    {
     "name": "stdout",
     "output_type": "stream",
     "text": [
      "torch.Size([64, 60]) torch.Size([64, 60])\n"
     ]
    }
   ],
   "source": [
    "print(x.shape, y.shape)"
   ]
  },
  {
   "cell_type": "code",
   "execution_count": 25,
   "metadata": {},
   "outputs": [],
   "source": [
    "data = DataBunch(train_dl, test_dl)"
   ]
  },
  {
   "cell_type": "markdown",
   "metadata": {},
   "source": [
    "# Model"
   ]
  },
  {
   "cell_type": "code",
   "execution_count": 95,
   "metadata": {},
   "outputs": [],
   "source": [
    "class MLP(nn.Module):\n",
    "    def __init__(self):\n",
    "        super().__init__()\n",
    "        sizes = [60, 200, 200, 2]\n",
    "        actns = [nn.ReLU(inplace=True)] * (len(sizes)-2) + [None]\n",
    "        layers = []\n",
    "        for i,(n_in,n_out,act) in enumerate(zip(sizes[:-1],sizes[1:],actns)):\n",
    "            layers += bn_drop_lin(n_in, n_out, bn=False, p=0, actn=act)\n",
    "        self.layers = nn.Sequential(*layers)\n",
    "        \n",
    "    def forward(self, x):\n",
    "        x = self.layers(x)\n",
    "        return x"
   ]
  },
  {
   "cell_type": "code",
   "execution_count": 43,
   "metadata": {},
   "outputs": [],
   "source": [
    "class DAE(nn.Module):\n",
    "    def __init__(self):\n",
    "        super().__init__()\n",
    "        sizes = [60, 200, 200, 60]\n",
    "        actns = [nn.ReLU(inplace=True)] * (len(sizes)-2) + [None]\n",
    "        layers = []\n",
    "        for i,(n_in,n_out,act) in enumerate(zip(sizes[:-1],sizes[1:],actns)):\n",
    "            layers += bn_drop_lin(n_in, n_out, bn=False, p=0, actn=act)\n",
    "        self.layers = nn.Sequential(*layers)\n",
    "        \n",
    "    def forward(self, x):\n",
    "        x = self.layers(x)\n",
    "        return x"
   ]
  },
  {
   "cell_type": "code",
   "execution_count": 44,
   "metadata": {},
   "outputs": [],
   "source": [
    "m = DAE()"
   ]
  },
  {
   "cell_type": "code",
   "execution_count": 45,
   "metadata": {},
   "outputs": [
    {
     "data": {
      "text/plain": [
       "DAE(\n",
       "  (layers): Sequential(\n",
       "    (0): Linear(in_features=60, out_features=200, bias=True)\n",
       "    (1): ReLU(inplace)\n",
       "    (2): Linear(in_features=200, out_features=200, bias=True)\n",
       "    (3): ReLU(inplace)\n",
       "    (4): Linear(in_features=200, out_features=60, bias=True)\n",
       "  )\n",
       ")"
      ]
     },
     "execution_count": 45,
     "metadata": {},
     "output_type": "execute_result"
    }
   ],
   "source": [
    "m"
   ]
  },
  {
   "cell_type": "code",
   "execution_count": 46,
   "metadata": {},
   "outputs": [],
   "source": [
    "x_batch, y_batch = next(iter(train_dl))"
   ]
  },
  {
   "cell_type": "code",
   "execution_count": 47,
   "metadata": {},
   "outputs": [
    {
     "data": {
      "text/plain": [
       "torch.Size([64, 60])"
      ]
     },
     "execution_count": 47,
     "metadata": {},
     "output_type": "execute_result"
    }
   ],
   "source": [
    "m(x_batch).shape"
   ]
  },
  {
   "cell_type": "code",
   "execution_count": 48,
   "metadata": {},
   "outputs": [],
   "source": [
    "learn = Learner(data, m, metrics=None, loss_func=F.mse_loss)"
   ]
  },
  {
   "cell_type": "code",
   "execution_count": 49,
   "metadata": {},
   "outputs": [
    {
     "name": "stdout",
     "output_type": "stream",
     "text": [
      "LR Finder is complete, type {learner_name}.recorder.plot() to see the graph.\n"
     ]
    }
   ],
   "source": [
    "learn.lr_find()"
   ]
  },
  {
   "cell_type": "code",
   "execution_count": 50,
   "metadata": {},
   "outputs": [
    {
     "data": {
      "image/png": "[encoded data removed]",
      "text/plain": [
       "<Figure size 432x288 with 1 Axes>"
      ]
     },
     "metadata": {
      "needs_background": "light"
     },
     "output_type": "display_data"
    }
   ],
   "source": [
    "learn.recorder.plot()"
   ]
  },
  {
   "cell_type": "code",
   "execution_count": 51,
   "metadata": {},
   "outputs": [
    {
     "name": "stdout",
     "output_type": "stream",
     "text": [
      "Total time: 00:10\n",
      "epoch  train_loss  valid_loss\n",
      "1      0.003137    0.003181    (00:03)\n",
      "2      0.000648    0.000430    (00:03)\n",
      "3      0.000052    0.000055    (00:03)\n",
      "\n"
     ]
    }
   ],
   "source": [
    "learn.fit_one_cycle(3, 1e-2)"
   ]
  },
  {
   "cell_type": "code",
   "execution_count": 52,
   "metadata": {},
   "outputs": [
    {
     "data": {
      "text/plain": [
       "DAE(\n",
       "  (layers): Sequential(\n",
       "    (0): Linear(in_features=60, out_features=200, bias=True)\n",
       "    (1): ReLU(inplace)\n",
       "    (2): Linear(in_features=200, out_features=200, bias=True)\n",
       "    (3): ReLU(inplace)\n",
       "    (4): Linear(in_features=200, out_features=60, bias=True)\n",
       "  )\n",
       ")"
      ]
     },
     "execution_count": 52,
     "metadata": {},
     "output_type": "execute_result"
    }
   ],
   "source": [
    "m.eval()"
   ]
  },
  {
   "cell_type": "code",
   "execution_count": 53,
   "metadata": {},
   "outputs": [
    {
     "data": {
      "text/plain": [
       "tensor([[ 0.4682, -0.2084, -0.0009,  ..., -0.0007,  0.0003,  0.9998],\n",
       "        [ 0.3922, -0.5888,  0.0005,  ...,  0.0012,  0.0048,  0.9942],\n",
       "        [ 1.1826, -1.4442,  0.0016,  ..., -0.0002, -0.0019,  1.0065],\n",
       "        ...,\n",
       "        [-0.4199, -0.6836, -0.0034,  ..., -0.0032,  0.0053,  0.9925],\n",
       "        [ 0.2455, -0.8040,  0.0040,  ..., -0.0051, -0.0063,  1.0067],\n",
       "        [-0.1169, -1.1652, -0.0095,  ..., -0.0034, -0.0037,  1.0045]],\n",
       "       grad_fn=<ThAddmmBackward>)"
      ]
     },
     "execution_count": 53,
     "metadata": {},
     "output_type": "execute_result"
    }
   ],
   "source": [
    "m(x_batch)"
   ]
  },
  {
   "cell_type": "code",
   "execution_count": 54,
   "metadata": {},
   "outputs": [
    {
     "data": {
      "text/plain": [
       "tensor([[ 0.4685, -0.2104,  0.0000,  ...,  0.0000,  0.0000,  1.0000],\n",
       "        [ 0.3954, -0.6041,  0.0000,  ...,  0.0000,  0.0000,  1.0000],\n",
       "        [ 1.1991, -1.4497,  0.0000,  ...,  0.0000,  0.0000,  1.0000],\n",
       "        ...,\n",
       "        [-0.4083, -0.6732,  0.0000,  ...,  0.0000,  0.0000,  1.0000],\n",
       "        [ 0.2493, -0.8124,  0.0000,  ...,  0.0000,  0.0000,  1.0000],\n",
       "        [-0.1161, -1.1711,  0.0000,  ...,  0.0000,  0.0000,  1.0000]])"
      ]
     },
     "execution_count": 54,
     "metadata": {},
     "output_type": "execute_result"
    }
   ],
   "source": [
    "x_batch"
   ]
  },
  {
   "cell_type": "code",
   "execution_count": 84,
   "metadata": {},
   "outputs": [
    {
     "name": "stdout",
     "output_type": "stream",
     "text": [
      "Total time: 00:25\n",
      "epoch  train_loss  valid_loss\n",
      "1      0.347521    0.344244    (00:02)\n",
      "2      0.343011    0.344807    (00:02)\n",
      "3      0.341174    0.347008    (00:02)\n",
      "4      0.337883    0.347670    (00:02)\n",
      "5      0.333931    0.351055    (00:02)\n",
      "6      0.332627    0.355039    (00:02)\n",
      "7      0.327785    0.360182    (00:02)\n",
      "8      0.326168    0.354243    (00:02)\n",
      "9      0.324182    0.356167    (00:02)\n",
      "10     0.318789    0.365484    (00:02)\n",
      "\n"
     ]
    }
   ],
   "source": [
    "learn.fit(10, 0.01)"
   ]
  },
  {
   "cell_type": "code",
   "execution_count": null,
   "metadata": {},
   "outputs": [],
   "source": []
  },
  {
   "cell_type": "code",
   "execution_count": null,
   "metadata": {},
   "outputs": [],
   "source": []
  },
  {
   "cell_type": "code",
   "execution_count": null,
   "metadata": {},
   "outputs": [],
   "source": []
  }
 ],
 "metadata": {
  "kernelspec": {
   "display_name": "fastaiv1",
   "language": "python",
   "name": "fastaiv1"
  },
  "language_info": {
   "codemirror_mode": {
    "name": "ipython",
    "version": 3
   },
   "file_extension": ".py",
   "mimetype": "text/x-python",
   "name": "python",
   "nbconvert_exporter": "python",
   "pygments_lexer": "ipython3",
   "version": "3.6.6"
  }
 },
 "nbformat": 4,
 "nbformat_minor": 2
}
